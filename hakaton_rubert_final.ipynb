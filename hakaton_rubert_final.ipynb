{
  "nbformat": 4,
  "nbformat_minor": 0,
  "metadata": {
    "colab": {
      "name": "hakaton_rubert_final.ipynb",
      "provenance": [],
      "collapsed_sections": []
    },
    "kernelspec": {
      "name": "python3",
      "display_name": "Python 3"
    },
    "accelerator": "GPU"
  },
  "cells": [
    {
      "cell_type": "code",
      "metadata": {
        "id": "QbX5qVTDgaxf",
        "colab_type": "code",
        "colab": {
          "base_uri": "https://localhost:8080/",
          "height": 1000
        },
        "outputId": "256226b3-8c64-4ef8-9de1-af1ac8cc731a"
      },
      "source": [
        "!pip install deeppavlov\n"
      ],
      "execution_count": 1,
      "outputs": [
        {
          "output_type": "stream",
          "text": [
            "Collecting deeppavlov\n",
            "\u001b[?25l  Downloading https://files.pythonhosted.org/packages/6d/f6/df4ce4c5c5cafd8d357a4c02cb1ccb5ff1d8f3c21de3e5d02299eef56342/deeppavlov-0.12.1-py3-none-any.whl (948kB)\n",
            "\u001b[K     |████████████████████████████████| 952kB 4.9MB/s \n",
            "\u001b[?25hCollecting pandas==0.25.3\n",
            "\u001b[?25l  Downloading https://files.pythonhosted.org/packages/52/3f/f6a428599e0d4497e1595030965b5ba455fd8ade6e977e3c819973c4b41d/pandas-0.25.3-cp36-cp36m-manylinux1_x86_64.whl (10.4MB)\n",
            "\u001b[K     |████████████████████████████████| 10.4MB 28.9MB/s \n",
            "\u001b[?25hCollecting nltk==3.4.5\n",
            "\u001b[?25l  Downloading https://files.pythonhosted.org/packages/f6/1d/d925cfb4f324ede997f6d47bea4d9babba51b49e87a767c170b77005889d/nltk-3.4.5.zip (1.5MB)\n",
            "\u001b[K     |████████████████████████████████| 1.5MB 45.6MB/s \n",
            "\u001b[?25hCollecting pytelegrambotapi==3.6.7\n",
            "\u001b[?25l  Downloading https://files.pythonhosted.org/packages/62/ab/99c606f69fcda57e35788b913dd34c9d9acb48dd26349141b3855dcf6351/pyTelegramBotAPI-3.6.7.tar.gz (65kB)\n",
            "\u001b[K     |████████████████████████████████| 71kB 9.7MB/s \n",
            "\u001b[?25hCollecting pymorphy2==0.8\n",
            "\u001b[?25l  Downloading https://files.pythonhosted.org/packages/a3/33/fff9675c68b5f6c63ec8c6e6ff57827dda28a1fa5b2c2d727dffff92dd47/pymorphy2-0.8-py2.py3-none-any.whl (46kB)\n",
            "\u001b[K     |████████████████████████████████| 51kB 8.5MB/s \n",
            "\u001b[?25hCollecting pymorphy2-dicts-ru\n",
            "\u001b[?25l  Downloading https://files.pythonhosted.org/packages/7c/9b/358faaff410f65a4ad159275e897b5956dcb20576c5b8e764b971c1634d7/pymorphy2_dicts_ru-2.4.404381.4453942-py2.py3-none-any.whl (8.0MB)\n",
            "\u001b[K     |████████████████████████████████| 8.0MB 24.0MB/s \n",
            "\u001b[?25hRequirement already satisfied: h5py==2.10.0 in /usr/local/lib/python3.6/dist-packages (from deeppavlov) (2.10.0)\n",
            "Requirement already satisfied: tqdm==4.41.1 in /usr/local/lib/python3.6/dist-packages (from deeppavlov) (4.41.1)\n",
            "Collecting sacremoses==0.0.35\n",
            "\u001b[?25l  Downloading https://files.pythonhosted.org/packages/1f/8e/ed5364a06a9ba720fddd9820155cc57300d28f5f43a6fd7b7e817177e642/sacremoses-0.0.35.tar.gz (859kB)\n",
            "\u001b[K     |████████████████████████████████| 860kB 56.4MB/s \n",
            "\u001b[?25hCollecting rusenttokenize==0.0.5\n",
            "  Downloading https://files.pythonhosted.org/packages/25/4c/a2f00be5def774a3df2e5387145f1cb54e324607ec4a7e23f573645946e7/rusenttokenize-0.0.5-py3-none-any.whl\n",
            "Collecting Cython==0.29.14\n",
            "\u001b[?25l  Downloading https://files.pythonhosted.org/packages/df/d1/4d3f8a7a920e805488a966cc6ab55c978a712240f584445d703c08b9f405/Cython-0.29.14-cp36-cp36m-manylinux1_x86_64.whl (2.1MB)\n",
            "\u001b[K     |████████████████████████████████| 2.1MB 48.4MB/s \n",
            "\u001b[?25hCollecting uvicorn==0.11.7\n",
            "\u001b[?25l  Downloading https://files.pythonhosted.org/packages/a9/5f/2bc87272f189662e129ddcd4807ad3ef83128b4df3a3482335f5f9790f24/uvicorn-0.11.7-py3-none-any.whl (43kB)\n",
            "\u001b[K     |████████████████████████████████| 51kB 8.5MB/s \n",
            "\u001b[?25hRequirement already satisfied: click==7.1.2 in /usr/local/lib/python3.6/dist-packages (from deeppavlov) (7.1.2)\n",
            "Collecting numpy==1.18.0\n",
            "\u001b[?25l  Downloading https://files.pythonhosted.org/packages/92/e6/45f71bd24f4e37629e9db5fb75caab919507deae6a5a257f9e4685a5f931/numpy-1.18.0-cp36-cp36m-manylinux1_x86_64.whl (20.1MB)\n",
            "\u001b[K     |████████████████████████████████| 20.1MB 1.5MB/s \n",
            "\u001b[?25hCollecting pytz==2019.1\n",
            "\u001b[?25l  Downloading https://files.pythonhosted.org/packages/3d/73/fe30c2daaaa0713420d0382b16fbb761409f532c56bdcc514bf7b6262bb6/pytz-2019.1-py2.py3-none-any.whl (510kB)\n",
            "\u001b[K     |████████████████████████████████| 512kB 40.8MB/s \n",
            "\u001b[?25hRequirement already satisfied: scipy==1.4.1 in /usr/local/lib/python3.6/dist-packages (from deeppavlov) (1.4.1)\n",
            "Collecting pydantic==1.3\n",
            "\u001b[?25l  Downloading https://files.pythonhosted.org/packages/99/24/e78cf017628e7eaed20cb040999b1ecc69f872da53dfd0d9aed40c0fa5f1/pydantic-1.3-cp36-cp36m-manylinux2010_x86_64.whl (7.3MB)\n",
            "\u001b[K     |████████████████████████████████| 7.3MB 9.0MB/s \n",
            "\u001b[?25hCollecting requests==2.22.0\n",
            "\u001b[?25l  Downloading https://files.pythonhosted.org/packages/51/bd/23c926cd341ea6b7dd0b2a00aba99ae0f828be89d72b2190f27c11d4b7fb/requests-2.22.0-py2.py3-none-any.whl (57kB)\n",
            "\u001b[K     |████████████████████████████████| 61kB 7.8MB/s \n",
            "\u001b[?25hCollecting ruamel.yaml==0.15.100\n",
            "\u001b[?25l  Downloading https://files.pythonhosted.org/packages/e7/9f/83bb34eaf84032b0b54fcc4a6aff1858572d279d65a301c7ae875f523df5/ruamel.yaml-0.15.100-cp36-cp36m-manylinux1_x86_64.whl (656kB)\n",
            "\u001b[K     |████████████████████████████████| 665kB 41.7MB/s \n",
            "\u001b[?25hCollecting fastapi==0.47.1\n",
            "\u001b[?25l  Downloading https://files.pythonhosted.org/packages/a3/a7/4804d7abf8a1544d079d50650af872387154ebdac5bd07d54b2e60e2b334/fastapi-0.47.1-py3-none-any.whl (43kB)\n",
            "\u001b[K     |████████████████████████████████| 51kB 6.3MB/s \n",
            "\u001b[?25hCollecting aio-pika==6.4.1\n",
            "\u001b[?25l  Downloading https://files.pythonhosted.org/packages/c8/07/196a4115cbef31fa0c3dabdea146f02dffe5e49998341d20dbe2278953bc/aio_pika-6.4.1-py3-none-any.whl (40kB)\n",
            "\u001b[K     |████████████████████████████████| 51kB 6.9MB/s \n",
            "\u001b[?25hCollecting pyopenssl==19.1.0\n",
            "\u001b[?25l  Downloading https://files.pythonhosted.org/packages/9e/de/f8342b68fa9e981d348039954657bdf681b2ab93de27443be51865ffa310/pyOpenSSL-19.1.0-py2.py3-none-any.whl (53kB)\n",
            "\u001b[K     |████████████████████████████████| 61kB 8.5MB/s \n",
            "\u001b[?25hCollecting scikit-learn==0.21.2\n",
            "\u001b[?25l  Downloading https://files.pythonhosted.org/packages/85/04/49633f490f726da6e454fddc8e938bbb5bfed2001681118d3814c219b723/scikit_learn-0.21.2-cp36-cp36m-manylinux1_x86_64.whl (6.7MB)\n",
            "\u001b[K     |████████████████████████████████| 6.7MB 22.0MB/s \n",
            "\u001b[?25hCollecting overrides==2.7.0\n",
            "  Downloading https://files.pythonhosted.org/packages/ac/98/2430afd204c48ac0a529d439d7e22df8fa603c668d03456b5947cb59ec36/overrides-2.7.0.tar.gz\n",
            "Requirement already satisfied: python-dateutil>=2.6.1 in /usr/local/lib/python3.6/dist-packages (from pandas==0.25.3->deeppavlov) (2.8.1)\n",
            "Requirement already satisfied: six in /usr/local/lib/python3.6/dist-packages (from nltk==3.4.5->deeppavlov) (1.15.0)\n",
            "Collecting dawg-python>=0.7\n",
            "  Downloading https://files.pythonhosted.org/packages/6a/84/ff1ce2071d4c650ec85745766c0047ccc3b5036f1d03559fd46bb38b5eeb/DAWG_Python-0.7.2-py2.py3-none-any.whl\n",
            "Collecting pymorphy2-dicts<3.0,>=2.4\n",
            "\u001b[?25l  Downloading https://files.pythonhosted.org/packages/02/51/2465fd4f72328ab50877b54777764d928da8cb15b74e2680fc1bd8cb3173/pymorphy2_dicts-2.4.393442.3710985-py2.py3-none-any.whl (7.1MB)\n",
            "\u001b[K     |████████████████████████████████| 7.1MB 49.4MB/s \n",
            "\u001b[?25hRequirement already satisfied: docopt>=0.6 in /usr/local/lib/python3.6/dist-packages (from pymorphy2==0.8->deeppavlov) (0.6.2)\n",
            "Requirement already satisfied: joblib in /usr/local/lib/python3.6/dist-packages (from sacremoses==0.0.35->deeppavlov) (0.16.0)\n",
            "Collecting uvloop>=0.14.0; sys_platform != \"win32\" and sys_platform != \"cygwin\" and platform_python_implementation != \"PyPy\"\n",
            "\u001b[?25l  Downloading https://files.pythonhosted.org/packages/41/48/586225bbb02d3bdca475b17e4be5ce5b3f09da2d6979f359916c1592a687/uvloop-0.14.0-cp36-cp36m-manylinux2010_x86_64.whl (3.9MB)\n",
            "\u001b[K     |████████████████████████████████| 3.9MB 34.0MB/s \n",
            "\u001b[?25hCollecting httptools==0.1.*; sys_platform != \"win32\" and sys_platform != \"cygwin\" and platform_python_implementation != \"PyPy\"\n",
            "\u001b[?25l  Downloading https://files.pythonhosted.org/packages/b1/a6/dc1e7e8f4049ab70d52c9690ec10652e268ab2542853033cc1d539594102/httptools-0.1.1-cp36-cp36m-manylinux1_x86_64.whl (216kB)\n",
            "\u001b[K     |████████████████████████████████| 225kB 52.5MB/s \n",
            "\u001b[?25hCollecting h11<0.10,>=0.8\n",
            "\u001b[?25l  Downloading https://files.pythonhosted.org/packages/5a/fd/3dad730b0f95e78aeeb742f96fa7bbecbdd56a58e405d3da440d5bfb90c6/h11-0.9.0-py2.py3-none-any.whl (53kB)\n",
            "\u001b[K     |████████████████████████████████| 61kB 8.8MB/s \n",
            "\u001b[?25hCollecting websockets==8.*\n",
            "\u001b[?25l  Downloading https://files.pythonhosted.org/packages/bb/d9/856af84843912e2853b1b6e898ac8b802989fcf9ecf8e8445a1da263bf3b/websockets-8.1-cp36-cp36m-manylinux2010_x86_64.whl (78kB)\n",
            "\u001b[K     |████████████████████████████████| 81kB 9.3MB/s \n",
            "\u001b[?25hRequirement already satisfied: dataclasses>=0.6; python_version < \"3.7\" in /usr/local/lib/python3.6/dist-packages (from pydantic==1.3->deeppavlov) (0.7)\n",
            "Requirement already satisfied: certifi>=2017.4.17 in /usr/local/lib/python3.6/dist-packages (from requests==2.22.0->deeppavlov) (2020.6.20)\n",
            "Requirement already satisfied: chardet<3.1.0,>=3.0.2 in /usr/local/lib/python3.6/dist-packages (from requests==2.22.0->deeppavlov) (3.0.4)\n",
            "Requirement already satisfied: urllib3!=1.25.0,!=1.25.1,<1.26,>=1.21.1 in /usr/local/lib/python3.6/dist-packages (from requests==2.22.0->deeppavlov) (1.24.3)\n",
            "Collecting idna<2.9,>=2.5\n",
            "\u001b[?25l  Downloading https://files.pythonhosted.org/packages/14/2c/cd551d81dbe15200be1cf41cd03869a46fe7226e7450af7a6545bfc474c9/idna-2.8-py2.py3-none-any.whl (58kB)\n",
            "\u001b[K     |████████████████████████████████| 61kB 8.2MB/s \n",
            "\u001b[?25hCollecting starlette<=0.12.9,>=0.12.9\n",
            "\u001b[?25l  Downloading https://files.pythonhosted.org/packages/67/95/2220fe5bf287e693a6430d8ee36c681b0157035b7249ec08f8fb36319d16/starlette-0.12.9.tar.gz (46kB)\n",
            "\u001b[K     |████████████████████████████████| 51kB 7.0MB/s \n",
            "\u001b[?25hCollecting yarl\n",
            "\u001b[?25l  Downloading https://files.pythonhosted.org/packages/a0/b4/2cbeaf2c3ea53865d9613b315fe24e78c66acedb1df7e4be4e064c87203b/yarl-1.5.1-cp36-cp36m-manylinux1_x86_64.whl (257kB)\n",
            "\u001b[K     |████████████████████████████████| 266kB 44.6MB/s \n",
            "\u001b[?25hCollecting aiormq<4,>=3.2.0\n",
            "  Downloading https://files.pythonhosted.org/packages/6b/c6/4a9f8f22eef268289e9af5da6a620d837c700b333eae01132bfe48fe7dc9/aiormq-3.2.3-py3-none-any.whl\n",
            "Collecting cryptography>=2.8\n",
            "\u001b[?25l  Downloading https://files.pythonhosted.org/packages/c0/9c/647e559a6e8be493dc2a7a5d15d26cb501ca60ec299b356f23839a673a83/cryptography-3.1-cp35-abi3-manylinux2010_x86_64.whl (2.6MB)\n",
            "\u001b[K     |████████████████████████████████| 2.6MB 50.9MB/s \n",
            "\u001b[?25hRequirement already satisfied: typing-extensions>=3.7.4; python_version < \"3.8\" in /usr/local/lib/python3.6/dist-packages (from yarl->aio-pika==6.4.1->deeppavlov) (3.7.4.3)\n",
            "Collecting multidict>=4.0\n",
            "\u001b[?25l  Downloading https://files.pythonhosted.org/packages/1a/95/f50352b5366e7d579e8b99631680a9e32e1b22adfa1629a8f23b1d22d5e2/multidict-4.7.6-cp36-cp36m-manylinux1_x86_64.whl (148kB)\n",
            "\u001b[K     |████████████████████████████████| 153kB 62.0MB/s \n",
            "\u001b[?25hCollecting pamqp==2.3.0\n",
            "  Downloading https://files.pythonhosted.org/packages/eb/56/afa06143361e640c9159d828dadc95fc9195c52c95b4a97d136617b0166d/pamqp-2.3.0-py2.py3-none-any.whl\n",
            "Requirement already satisfied: cffi!=1.11.3,>=1.8 in /usr/local/lib/python3.6/dist-packages (from cryptography>=2.8->pyopenssl==19.1.0->deeppavlov) (1.14.2)\n",
            "Requirement already satisfied: pycparser in /usr/local/lib/python3.6/dist-packages (from cffi!=1.11.3,>=1.8->cryptography>=2.8->pyopenssl==19.1.0->deeppavlov) (2.20)\n",
            "Building wheels for collected packages: nltk, pytelegrambotapi, sacremoses, overrides, starlette\n",
            "  Building wheel for nltk (setup.py) ... \u001b[?25l\u001b[?25hdone\n",
            "  Created wheel for nltk: filename=nltk-3.4.5-cp36-none-any.whl size=1449907 sha256=ba266fa82599f8f5e89a40e298c0175d4289f84359260b5d3fb35306a648a2bb\n",
            "  Stored in directory: /root/.cache/pip/wheels/96/86/f6/68ab24c23f207c0077381a5e3904b2815136b879538a24b483\n",
            "  Building wheel for pytelegrambotapi (setup.py) ... \u001b[?25l\u001b[?25hdone\n",
            "  Created wheel for pytelegrambotapi: filename=pyTelegramBotAPI-3.6.7-cp36-none-any.whl size=47179 sha256=e095c0c6533156a2f50874877900e9c3569cac636d5aa428103c70c0b675650c\n",
            "  Stored in directory: /root/.cache/pip/wheels/23/40/18/8a34153f95ef0dc19e3954898e5a5079244b76a8afdd7d0ec5\n",
            "  Building wheel for sacremoses (setup.py) ... \u001b[?25l\u001b[?25hdone\n",
            "  Created wheel for sacremoses: filename=sacremoses-0.0.35-cp36-none-any.whl size=883999 sha256=e5a321b5d917ea55c6afc195fba3c8f788dd7866329759f8646c8d9c530ee991\n",
            "  Stored in directory: /root/.cache/pip/wheels/63/2a/db/63e2909042c634ef551d0d9ac825b2b0b32dede4a6d87ddc94\n",
            "  Building wheel for overrides (setup.py) ... \u001b[?25l\u001b[?25hdone\n",
            "  Created wheel for overrides: filename=overrides-2.7.0-cp36-none-any.whl size=5601 sha256=2ad1907789173457a8320ecd5e625ce4c09c8b9895ae47e16ad9ce99b5b1f960\n",
            "  Stored in directory: /root/.cache/pip/wheels/8c/7c/ef/80508418b67d87371c5b3de49e03eb22ee7c1d19affb5099f8\n",
            "  Building wheel for starlette (setup.py) ... \u001b[?25l\u001b[?25hdone\n",
            "  Created wheel for starlette: filename=starlette-0.12.9-cp36-none-any.whl size=57245 sha256=abbe9ef6851f3f74773db665e435f1af67b57395f40f356fd2409598073b93c9\n",
            "  Stored in directory: /root/.cache/pip/wheels/1c/51/5b/3828d52e185cafad941c4291b6f70894d0794be28c70addae5\n",
            "Successfully built nltk pytelegrambotapi sacremoses overrides starlette\n",
            "\u001b[31mERROR: google-colab 1.0.0 has requirement pandas~=1.0.0; python_version >= \"3.0\", but you'll have pandas 0.25.3 which is incompatible.\u001b[0m\n",
            "\u001b[31mERROR: google-colab 1.0.0 has requirement requests~=2.23.0, but you'll have requests 2.22.0 which is incompatible.\u001b[0m\n",
            "\u001b[31mERROR: fbprophet 0.7.1 has requirement pandas>=1.0.4, but you'll have pandas 0.25.3 which is incompatible.\u001b[0m\n",
            "\u001b[31mERROR: datascience 0.10.6 has requirement folium==0.2.1, but you'll have folium 0.8.3 which is incompatible.\u001b[0m\n",
            "\u001b[31mERROR: albumentations 0.1.12 has requirement imgaug<0.2.7,>=0.2.5, but you'll have imgaug 0.2.9 which is incompatible.\u001b[0m\n",
            "Installing collected packages: pytz, numpy, pandas, nltk, idna, requests, pytelegrambotapi, dawg-python, pymorphy2-dicts, pymorphy2, pymorphy2-dicts-ru, sacremoses, rusenttokenize, Cython, uvloop, httptools, h11, websockets, uvicorn, pydantic, ruamel.yaml, starlette, fastapi, multidict, yarl, pamqp, aiormq, aio-pika, cryptography, pyopenssl, scikit-learn, overrides, deeppavlov\n",
            "  Found existing installation: pytz 2018.9\n",
            "    Uninstalling pytz-2018.9:\n",
            "      Successfully uninstalled pytz-2018.9\n",
            "  Found existing installation: numpy 1.18.5\n",
            "    Uninstalling numpy-1.18.5:\n",
            "      Successfully uninstalled numpy-1.18.5\n",
            "  Found existing installation: pandas 1.0.5\n",
            "    Uninstalling pandas-1.0.5:\n",
            "      Successfully uninstalled pandas-1.0.5\n",
            "  Found existing installation: nltk 3.2.5\n",
            "    Uninstalling nltk-3.2.5:\n",
            "      Successfully uninstalled nltk-3.2.5\n",
            "  Found existing installation: idna 2.10\n",
            "    Uninstalling idna-2.10:\n",
            "      Successfully uninstalled idna-2.10\n",
            "  Found existing installation: requests 2.23.0\n",
            "    Uninstalling requests-2.23.0:\n",
            "      Successfully uninstalled requests-2.23.0\n",
            "  Found existing installation: Cython 0.29.21\n",
            "    Uninstalling Cython-0.29.21:\n",
            "      Successfully uninstalled Cython-0.29.21\n",
            "  Found existing installation: scikit-learn 0.22.2.post1\n",
            "    Uninstalling scikit-learn-0.22.2.post1:\n",
            "      Successfully uninstalled scikit-learn-0.22.2.post1\n",
            "Successfully installed Cython-0.29.14 aio-pika-6.4.1 aiormq-3.2.3 cryptography-3.1 dawg-python-0.7.2 deeppavlov-0.12.1 fastapi-0.47.1 h11-0.9.0 httptools-0.1.1 idna-2.8 multidict-4.7.6 nltk-3.4.5 numpy-1.18.0 overrides-2.7.0 pamqp-2.3.0 pandas-0.25.3 pydantic-1.3 pymorphy2-0.8 pymorphy2-dicts-2.4.393442.3710985 pymorphy2-dicts-ru-2.4.404381.4453942 pyopenssl-19.1.0 pytelegrambotapi-3.6.7 pytz-2019.1 requests-2.22.0 ruamel.yaml-0.15.100 rusenttokenize-0.0.5 sacremoses-0.0.35 scikit-learn-0.21.2 starlette-0.12.9 uvicorn-0.11.7 uvloop-0.14.0 websockets-8.1 yarl-1.5.1\n"
          ],
          "name": "stdout"
        },
        {
          "output_type": "display_data",
          "data": {
            "application/vnd.colab-display-data+json": {
              "pip_warning": {
                "packages": [
                  "numpy",
                  "pandas",
                  "pytz"
                ]
              }
            }
          },
          "metadata": {
            "tags": []
          }
        }
      ]
    },
    {
      "cell_type": "code",
      "metadata": {
        "id": "tHfBuJAHg12I",
        "colab_type": "code",
        "colab": {
          "base_uri": "https://localhost:8080/",
          "height": 35
        },
        "outputId": "655bad0d-0713-4a71-b686-19d3aee16a1e"
      },
      "source": [
        "from google.colab import drive\n",
        "drive.mount('/content/gdrive')\n",
        "\n",
        "!cp '/content/gdrive/My Drive/Hakaton2/resume_to_hackaton.csv' ."
      ],
      "execution_count": 1,
      "outputs": [
        {
          "output_type": "stream",
          "text": [
            "Mounted at /content/gdrive\n"
          ],
          "name": "stdout"
        }
      ]
    },
    {
      "cell_type": "code",
      "metadata": {
        "id": "SmNpxBnmgmUF",
        "colab_type": "code",
        "colab": {
          "base_uri": "https://localhost:8080/",
          "height": 1000
        },
        "outputId": "d295f658-4f82-4271-d8a3-545284d32ea1"
      },
      "source": [
        "!python -m deeppavlov install squad_torch_bert\n"
      ],
      "execution_count": 2,
      "outputs": [
        {
          "output_type": "stream",
          "text": [
            "2020-09-19 18:36:46.566 INFO in 'deeppavlov.core.common.file'['file'] at line 32: Interpreting 'squad_torch_bert' as '/usr/local/lib/python3.6/dist-packages/deeppavlov/configs/squad/squad_torch_bert.json'\n",
            "Requirement already satisfied: torch==1.6.0 in /usr/local/lib/python3.6/dist-packages (1.6.0+cu101)\n",
            "Requirement already satisfied: future in /usr/local/lib/python3.6/dist-packages (from torch==1.6.0) (0.16.0)\n",
            "Requirement already satisfied: numpy in /usr/local/lib/python3.6/dist-packages (from torch==1.6.0) (1.18.0)\n",
            "Requirement already satisfied: torchvision==0.7.0 in /usr/local/lib/python3.6/dist-packages (0.7.0+cu101)\n",
            "Requirement already satisfied: torch==1.6.0 in /usr/local/lib/python3.6/dist-packages (from torchvision==0.7.0) (1.6.0+cu101)\n",
            "Requirement already satisfied: pillow>=4.1.1 in /usr/local/lib/python3.6/dist-packages (from torchvision==0.7.0) (7.0.0)\n",
            "Requirement already satisfied: numpy in /usr/local/lib/python3.6/dist-packages (from torchvision==0.7.0) (1.18.0)\n",
            "Requirement already satisfied: future in /usr/local/lib/python3.6/dist-packages (from torch==1.6.0->torchvision==0.7.0) (0.16.0)\n",
            "Collecting torchtext==0.6.0\n",
            "\u001b[?25l  Downloading https://files.pythonhosted.org/packages/f2/17/e7c588245aece7aa93f360894179374830daf60d7ed0bbb59332de3b3b61/torchtext-0.6.0-py3-none-any.whl (64kB)\n",
            "\u001b[K     |████████████████████████████████| 71kB 3.3MB/s \n",
            "\u001b[?25hRequirement already satisfied: numpy in /usr/local/lib/python3.6/dist-packages (from torchtext==0.6.0) (1.18.0)\n",
            "Requirement already satisfied: torch in /usr/local/lib/python3.6/dist-packages (from torchtext==0.6.0) (1.6.0+cu101)\n",
            "Collecting sentencepiece\n",
            "\u001b[?25l  Downloading https://files.pythonhosted.org/packages/d4/a4/d0a884c4300004a78cca907a6ff9a5e9fe4f090f5d95ab341c53d28cbc58/sentencepiece-0.1.91-cp36-cp36m-manylinux1_x86_64.whl (1.1MB)\n",
            "\u001b[K     |████████████████████████████████| 1.1MB 11.3MB/s \n",
            "\u001b[?25hRequirement already satisfied: requests in /usr/local/lib/python3.6/dist-packages (from torchtext==0.6.0) (2.22.0)\n",
            "Requirement already satisfied: six in /usr/local/lib/python3.6/dist-packages (from torchtext==0.6.0) (1.15.0)\n",
            "Requirement already satisfied: tqdm in /usr/local/lib/python3.6/dist-packages (from torchtext==0.6.0) (4.41.1)\n",
            "Requirement already satisfied: future in /usr/local/lib/python3.6/dist-packages (from torch->torchtext==0.6.0) (0.16.0)\n",
            "Requirement already satisfied: urllib3!=1.25.0,!=1.25.1,<1.26,>=1.21.1 in /usr/local/lib/python3.6/dist-packages (from requests->torchtext==0.6.0) (1.24.3)\n",
            "Requirement already satisfied: chardet<3.1.0,>=3.0.2 in /usr/local/lib/python3.6/dist-packages (from requests->torchtext==0.6.0) (3.0.4)\n",
            "Requirement already satisfied: idna<2.9,>=2.5 in /usr/local/lib/python3.6/dist-packages (from requests->torchtext==0.6.0) (2.8)\n",
            "Requirement already satisfied: certifi>=2017.4.17 in /usr/local/lib/python3.6/dist-packages (from requests->torchtext==0.6.0) (2020.6.20)\n",
            "Installing collected packages: sentencepiece, torchtext\n",
            "  Found existing installation: torchtext 0.3.1\n",
            "    Uninstalling torchtext-0.3.1:\n",
            "      Successfully uninstalled torchtext-0.3.1\n",
            "Successfully installed sentencepiece-0.1.91 torchtext-0.6.0\n",
            "Requirement already satisfied: torchsummary==1.5.1 in /usr/local/lib/python3.6/dist-packages (1.5.1)\n",
            "Collecting transformers==2.8.0\n",
            "\u001b[?25l  Downloading https://files.pythonhosted.org/packages/a3/78/92cedda05552398352ed9784908b834ee32a0bd071a9b32de287327370b7/transformers-2.8.0-py3-none-any.whl (563kB)\n",
            "\u001b[K     |████████████████████████████████| 573kB 4.5MB/s \n",
            "\u001b[?25hCollecting tokenizers==0.5.2\n",
            "\u001b[?25l  Downloading https://files.pythonhosted.org/packages/d1/3f/73c881ea4723e43c1e9acf317cf407fab3a278daab3a69c98dcac511c04f/tokenizers-0.5.2-cp36-cp36m-manylinux1_x86_64.whl (3.7MB)\n",
            "\u001b[K     |████████████████████████████████| 3.7MB 19.3MB/s \n",
            "\u001b[?25hRequirement already satisfied: boto3 in /usr/local/lib/python3.6/dist-packages (from transformers==2.8.0) (1.14.59)\n",
            "Requirement already satisfied: sacremoses in /usr/local/lib/python3.6/dist-packages (from transformers==2.8.0) (0.0.35)\n",
            "Requirement already satisfied: numpy in /usr/local/lib/python3.6/dist-packages (from transformers==2.8.0) (1.18.0)\n",
            "Requirement already satisfied: sentencepiece in /usr/local/lib/python3.6/dist-packages (from transformers==2.8.0) (0.1.91)\n",
            "Requirement already satisfied: filelock in /usr/local/lib/python3.6/dist-packages (from transformers==2.8.0) (3.0.12)\n",
            "Requirement already satisfied: tqdm>=4.27 in /usr/local/lib/python3.6/dist-packages (from transformers==2.8.0) (4.41.1)\n",
            "Requirement already satisfied: dataclasses; python_version < \"3.7\" in /usr/local/lib/python3.6/dist-packages (from transformers==2.8.0) (0.7)\n",
            "Requirement already satisfied: regex!=2019.12.17 in /usr/local/lib/python3.6/dist-packages (from transformers==2.8.0) (2019.12.20)\n",
            "Requirement already satisfied: requests in /usr/local/lib/python3.6/dist-packages (from transformers==2.8.0) (2.22.0)\n",
            "Requirement already satisfied: jmespath<1.0.0,>=0.7.1 in /usr/local/lib/python3.6/dist-packages (from boto3->transformers==2.8.0) (0.10.0)\n",
            "Requirement already satisfied: botocore<1.18.0,>=1.17.59 in /usr/local/lib/python3.6/dist-packages (from boto3->transformers==2.8.0) (1.17.59)\n",
            "Requirement already satisfied: s3transfer<0.4.0,>=0.3.0 in /usr/local/lib/python3.6/dist-packages (from boto3->transformers==2.8.0) (0.3.3)\n",
            "Requirement already satisfied: joblib in /usr/local/lib/python3.6/dist-packages (from sacremoses->transformers==2.8.0) (0.16.0)\n",
            "Requirement already satisfied: click in /usr/local/lib/python3.6/dist-packages (from sacremoses->transformers==2.8.0) (7.1.2)\n",
            "Requirement already satisfied: six in /usr/local/lib/python3.6/dist-packages (from sacremoses->transformers==2.8.0) (1.15.0)\n",
            "Requirement already satisfied: urllib3!=1.25.0,!=1.25.1,<1.26,>=1.21.1 in /usr/local/lib/python3.6/dist-packages (from requests->transformers==2.8.0) (1.24.3)\n",
            "Requirement already satisfied: chardet<3.1.0,>=3.0.2 in /usr/local/lib/python3.6/dist-packages (from requests->transformers==2.8.0) (3.0.4)\n",
            "Requirement already satisfied: certifi>=2017.4.17 in /usr/local/lib/python3.6/dist-packages (from requests->transformers==2.8.0) (2020.6.20)\n",
            "Requirement already satisfied: idna<2.9,>=2.5 in /usr/local/lib/python3.6/dist-packages (from requests->transformers==2.8.0) (2.8)\n",
            "Requirement already satisfied: python-dateutil<3.0.0,>=2.1 in /usr/local/lib/python3.6/dist-packages (from botocore<1.18.0,>=1.17.59->boto3->transformers==2.8.0) (2.8.1)\n",
            "Requirement already satisfied: docutils<0.16,>=0.10 in /usr/local/lib/python3.6/dist-packages (from botocore<1.18.0,>=1.17.59->boto3->transformers==2.8.0) (0.15.2)\n",
            "Installing collected packages: tokenizers, transformers\n",
            "Successfully installed tokenizers-0.5.2 transformers-2.8.0\n"
          ],
          "name": "stdout"
        }
      ]
    },
    {
      "cell_type": "code",
      "metadata": {
        "id": "bnBRVwKKgmcx",
        "colab_type": "code",
        "colab": {
          "base_uri": "https://localhost:8080/",
          "height": 35
        },
        "outputId": "af11ed5e-32d2-46da-f768-8420bd52d294"
      },
      "source": [
        "%%writefile squad_ru.json\n",
        "{\n",
        "  \"dataset_reader\": {\n",
        "    \"class_name\": \"squad_dataset_reader\",\n",
        "    \"dataset\": \"SberSQuADClean\",\n",
        "    \"url\": \"http://files.deeppavlov.ai/datasets/sber_squad_clean-v1.1.tar.gz\",\n",
        "    \"data_path\": \"{DOWNLOADS_PATH}/squad_ru_clean/\"\n",
        "  },\n",
        "  \"dataset_iterator\": {\n",
        "    \"class_name\": \"squad_iterator\",\n",
        "    \"seed\": 1337,\n",
        "    \"shuffle\": true\n",
        "  },\n",
        "  \"chainer\": {\n",
        "    \"in\": [\"context_raw\", \"question_raw\"],\n",
        "    \"in_y\": [\"ans_raw\", \"ans_raw_start\"],\n",
        "    \"pipe\": [\n",
        "      {\n",
        "        \"class_name\": \"squad_bert_infer\",\n",
        "        \"lang\": \"ru\",\n",
        "        \"batch_size\": 128,\n",
        "        \"squad_model_config\": \"{CONFIGS_PATH}/squad/squad_ru_rubert.json\",\n",
        "        \"vocab_file\": \"{DOWNLOADS_PATH}/bert_models/rubert_cased_L-12_H-768_A-12_v1/vocab.txt\",\n",
        "        \"do_lower_case\": false,\n",
        "        \"max_seq_length\": 256,\n",
        "        \"in\": [\"context_raw\", \"question_raw\"],\n",
        "        \"out\": [\"ans_predicted\", \"ans_start_predicted\", \"logits\"]\n",
        "      }\n",
        "    ],\n",
        "    \"out\": [\"ans_predicted\", \"ans_start_predicted\", \"logits\"]\n",
        "  },\n",
        "  \"train\": {\n",
        "    \"show_examples\": false,\n",
        "    \"test_best\": false,\n",
        "    \"validate_best\": true,\n",
        "    \"log_every_n_batches\": 250,\n",
        "    \"val_every_n_batches\": 500,\n",
        "    \"batch_size\": 10,\n",
        "    \"pytest_max_batches\": 2,\n",
        "    \"validation_patience\": 10,\n",
        "    \"metrics\": [\n",
        "      {\n",
        "        \"name\": \"squad_v2_f1\",\n",
        "        \"inputs\": [\"ans_raw\", \"ans_predicted\"]\n",
        "      },\n",
        "      {\n",
        "        \"name\": \"squad_v2_em\",\n",
        "        \"inputs\": [\"ans_raw\", \"ans_predicted\"]\n",
        "      },\n",
        "      {\n",
        "        \"name\": \"squad_v1_f1\",\n",
        "        \"inputs\": [\"ans_raw\", \"ans_predicted\"]\n",
        "      },\n",
        "      {\n",
        "        \"name\": \"squad_v1_em\",\n",
        "        \"inputs\": [\"ans_raw\", \"ans_predicted\"]\n",
        "      }\n",
        "    ]\n",
        "  },\n",
        "  \"metadata\": {\n",
        "    \"variables\": {\n",
        "      \"ROOT_PATH\": \"~/.deeppavlov\",\n",
        "      \"DOWNLOADS_PATH\": \"{ROOT_PATH}/downloads\",\n",
        "      \"MODELS_PATH\": \"{ROOT_PATH}/models\",\n",
        "      \"CONFIGS_PATH\": \"{DEEPPAVLOV_PATH}/configs\"\n",
        "    },\n",
        "    \"requirements\": [\n",
        "      \"{DEEPPAVLOV_PATH}/requirements/tf.txt\",\n",
        "      \"{DEEPPAVLOV_PATH}/requirements/bert_dp.txt\"\n",
        "    ],\n",
        "    \"download\": [\n",
        "      {\n",
        "        \"url\": \"http://files.deeppavlov.ai/deeppavlov_data/bert/rubert_cased_L-12_H-768_A-12_v1.tar.gz\",\n",
        "        \"subdir\": \"{DOWNLOADS_PATH}/bert_models\"\n",
        "      },\n",
        "      {\n",
        "        \"url\": \"http://files.deeppavlov.ai/deeppavlov_data/squad_model_ru_rubert.tar.gz\",\n",
        "        \"subdir\": \"{MODELS_PATH}\"\n",
        "      }\n",
        "    ]\n",
        "  }\n",
        "}\n",
        "\n"
      ],
      "execution_count": 3,
      "outputs": [
        {
          "output_type": "stream",
          "text": [
            "Writing squad_ru.json\n"
          ],
          "name": "stdout"
        }
      ]
    },
    {
      "cell_type": "code",
      "metadata": {
        "id": "ukuAgVcxgmkh",
        "colab_type": "code",
        "colab": {
          "base_uri": "https://localhost:8080/",
          "height": 147
        },
        "outputId": "6d5efe21-c63c-4f4f-98c3-6357e1c1f5d6"
      },
      "source": [
        "!python -m deeppavlov download squad_ru.json"
      ],
      "execution_count": 4,
      "outputs": [
        {
          "output_type": "stream",
          "text": [
            "2020-09-19 18:37:08.795 INFO in 'deeppavlov.core.data.utils'['utils'] at line 94: Downloading from http://files.deeppavlov.ai/deeppavlov_data/bert/rubert_cased_L-12_H-768_A-12_v1.tar.gz?config=squad_ru to /root/.deeppavlov/downloads/rubert_cased_L-12_H-768_A-12_v1.tar.gz\n",
            "100% 666M/666M [02:47<00:00, 3.97MB/s]\n",
            "2020-09-19 18:39:56.905 INFO in 'deeppavlov.core.data.utils'['utils'] at line 269: Extracting /root/.deeppavlov/downloads/rubert_cased_L-12_H-768_A-12_v1.tar.gz archive into /root/.deeppavlov/downloads/bert_models\n",
            "2020-09-19 18:40:04.14 INFO in 'deeppavlov.core.data.utils'['utils'] at line 94: Downloading from http://files.deeppavlov.ai/deeppavlov_data/squad_model_ru_rubert.tar.gz?config=squad_ru to /root/.deeppavlov/squad_model_ru_rubert.tar.gz\n",
            "100% 659M/659M [02:21<00:00, 4.66MB/s]\n",
            "2020-09-19 18:42:25.691 INFO in 'deeppavlov.core.data.utils'['utils'] at line 269: Extracting /root/.deeppavlov/squad_model_ru_rubert.tar.gz archive into /root/.deeppavlov/models\n"
          ],
          "name": "stdout"
        }
      ]
    },
    {
      "cell_type": "code",
      "metadata": {
        "id": "mAruGc8Jg7UN",
        "colab_type": "code",
        "colab": {
          "base_uri": "https://localhost:8080/",
          "height": 110
        },
        "outputId": "cd91bc29-50bd-48e9-fbf6-8b327b6b5697"
      },
      "source": [
        "!python -m deeppavlov download bert_embedder"
      ],
      "execution_count": 5,
      "outputs": [
        {
          "output_type": "stream",
          "text": [
            "2020-09-19 18:42:32.861 INFO in 'deeppavlov.core.common.file'['file'] at line 32: Interpreting 'bert_embedder' as '/usr/local/lib/python3.6/dist-packages/deeppavlov/configs/embedder/bert_embedder.json'\n",
            "2020-09-19 18:42:33.612 INFO in 'deeppavlov.core.data.utils'['utils'] at line 94: Downloading from http://files.deeppavlov.ai/deeppavlov_data/bert/multi_cased_L-12_H-768_A-12_pt.tar.gz?config=bert_embedder to /root/.deeppavlov/downloads/multi_cased_L-12_H-768_A-12_pt.tar.gz\n",
            "100% 663M/663M [02:30<00:00, 4.40MB/s]\n",
            "2020-09-19 18:45:04.695 INFO in 'deeppavlov.core.data.utils'['utils'] at line 269: Extracting /root/.deeppavlov/downloads/multi_cased_L-12_H-768_A-12_pt.tar.gz archive into /root/.deeppavlov/downloads/bert_models\n"
          ],
          "name": "stdout"
        }
      ]
    },
    {
      "cell_type": "code",
      "metadata": {
        "id": "ldDBS2QxgmrY",
        "colab_type": "code",
        "colab": {
          "base_uri": "https://localhost:8080/",
          "height": 1000
        },
        "outputId": "d631778a-06dd-4537-b2c9-8d62839e09f4"
      },
      "source": [
        "!python -m deeppavlov install squad_ru.json"
      ],
      "execution_count": 6,
      "outputs": [
        {
          "output_type": "stream",
          "text": [
            "Collecting tensorflow==1.15.2\n",
            "\u001b[?25l  Downloading https://files.pythonhosted.org/packages/9a/d9/fd234c7bf68638423fb8e7f44af7fcfce3bcaf416b51e6d902391e47ec43/tensorflow-1.15.2-cp36-cp36m-manylinux2010_x86_64.whl (110.5MB)\n",
            "\u001b[K     |████████████████████████████████| 110.5MB 36kB/s \n",
            "\u001b[?25hRequirement already satisfied: keras-preprocessing>=1.0.5 in /usr/local/lib/python3.6/dist-packages (from tensorflow==1.15.2) (1.1.2)\n",
            "Collecting tensorboard<1.16.0,>=1.15.0\n",
            "\u001b[?25l  Downloading https://files.pythonhosted.org/packages/1e/e9/d3d747a97f7188f48aa5eda486907f3b345cd409f0a0850468ba867db246/tensorboard-1.15.0-py3-none-any.whl (3.8MB)\n",
            "\u001b[K     |████████████████████████████████| 3.8MB 48.9MB/s \n",
            "\u001b[?25hRequirement already satisfied: absl-py>=0.7.0 in /usr/local/lib/python3.6/dist-packages (from tensorflow==1.15.2) (0.10.0)\n",
            "Requirement already satisfied: numpy<2.0,>=1.16.0 in /usr/local/lib/python3.6/dist-packages (from tensorflow==1.15.2) (1.18.0)\n",
            "Requirement already satisfied: wrapt>=1.11.1 in /usr/local/lib/python3.6/dist-packages (from tensorflow==1.15.2) (1.12.1)\n",
            "Requirement already satisfied: google-pasta>=0.1.6 in /usr/local/lib/python3.6/dist-packages (from tensorflow==1.15.2) (0.2.0)\n",
            "Requirement already satisfied: opt-einsum>=2.3.2 in /usr/local/lib/python3.6/dist-packages (from tensorflow==1.15.2) (3.3.0)\n",
            "Requirement already satisfied: six>=1.10.0 in /usr/local/lib/python3.6/dist-packages (from tensorflow==1.15.2) (1.15.0)\n",
            "Collecting keras-applications>=1.0.8\n",
            "\u001b[?25l  Downloading https://files.pythonhosted.org/packages/71/e3/19762fdfc62877ae9102edf6342d71b28fbfd9dea3d2f96a882ce099b03f/Keras_Applications-1.0.8-py3-none-any.whl (50kB)\n",
            "\u001b[K     |████████████████████████████████| 51kB 8.2MB/s \n",
            "\u001b[?25hRequirement already satisfied: astor>=0.6.0 in /usr/local/lib/python3.6/dist-packages (from tensorflow==1.15.2) (0.8.1)\n",
            "Requirement already satisfied: wheel>=0.26; python_version >= \"3\" in /usr/local/lib/python3.6/dist-packages (from tensorflow==1.15.2) (0.35.1)\n",
            "Requirement already satisfied: termcolor>=1.1.0 in /usr/local/lib/python3.6/dist-packages (from tensorflow==1.15.2) (1.1.0)\n",
            "Requirement already satisfied: grpcio>=1.8.6 in /usr/local/lib/python3.6/dist-packages (from tensorflow==1.15.2) (1.32.0)\n",
            "Requirement already satisfied: protobuf>=3.6.1 in /usr/local/lib/python3.6/dist-packages (from tensorflow==1.15.2) (3.12.4)\n",
            "Collecting tensorflow-estimator==1.15.1\n",
            "\u001b[?25l  Downloading https://files.pythonhosted.org/packages/de/62/2ee9cd74c9fa2fa450877847ba560b260f5d0fb70ee0595203082dafcc9d/tensorflow_estimator-1.15.1-py2.py3-none-any.whl (503kB)\n",
            "\u001b[K     |████████████████████████████████| 512kB 51.6MB/s \n",
            "\u001b[?25hCollecting gast==0.2.2\n",
            "  Downloading https://files.pythonhosted.org/packages/4e/35/11749bf99b2d4e3cceb4d55ca22590b0d7c2c62b9de38ac4a4a7f4687421/gast-0.2.2.tar.gz\n",
            "Requirement already satisfied: setuptools>=41.0.0 in /usr/local/lib/python3.6/dist-packages (from tensorboard<1.16.0,>=1.15.0->tensorflow==1.15.2) (50.3.0)\n",
            "Requirement already satisfied: werkzeug>=0.11.15 in /usr/local/lib/python3.6/dist-packages (from tensorboard<1.16.0,>=1.15.0->tensorflow==1.15.2) (1.0.1)\n",
            "Requirement already satisfied: markdown>=2.6.8 in /usr/local/lib/python3.6/dist-packages (from tensorboard<1.16.0,>=1.15.0->tensorflow==1.15.2) (3.2.2)\n",
            "Requirement already satisfied: h5py in /usr/local/lib/python3.6/dist-packages (from keras-applications>=1.0.8->tensorflow==1.15.2) (2.10.0)\n",
            "Requirement already satisfied: importlib-metadata; python_version < \"3.8\" in /usr/local/lib/python3.6/dist-packages (from markdown>=2.6.8->tensorboard<1.16.0,>=1.15.0->tensorflow==1.15.2) (1.7.0)\n",
            "Requirement already satisfied: zipp>=0.5 in /usr/local/lib/python3.6/dist-packages (from importlib-metadata; python_version < \"3.8\"->markdown>=2.6.8->tensorboard<1.16.0,>=1.15.0->tensorflow==1.15.2) (3.1.0)\n",
            "Building wheels for collected packages: gast\n",
            "  Building wheel for gast (setup.py) ... \u001b[?25l\u001b[?25hdone\n",
            "  Created wheel for gast: filename=gast-0.2.2-cp36-none-any.whl size=7542 sha256=11d44427cfff01023a51fac77805e5509491c410a9c41478409206b806ba8e15\n",
            "  Stored in directory: /root/.cache/pip/wheels/5c/2e/7e/a1d4d4fcebe6c381f378ce7743a3ced3699feb89bcfbdadadd\n",
            "Successfully built gast\n",
            "\u001b[31mERROR: tensorflow-probability 0.11.0 has requirement gast>=0.3.2, but you'll have gast 0.2.2 which is incompatible.\u001b[0m\n",
            "Installing collected packages: tensorboard, keras-applications, tensorflow-estimator, gast, tensorflow\n",
            "  Found existing installation: tensorboard 2.3.0\n",
            "    Uninstalling tensorboard-2.3.0:\n",
            "      Successfully uninstalled tensorboard-2.3.0\n",
            "  Found existing installation: tensorflow-estimator 2.3.0\n",
            "    Uninstalling tensorflow-estimator-2.3.0:\n",
            "      Successfully uninstalled tensorflow-estimator-2.3.0\n",
            "  Found existing installation: gast 0.3.3\n",
            "    Uninstalling gast-0.3.3:\n",
            "      Successfully uninstalled gast-0.3.3\n",
            "  Found existing installation: tensorflow 2.3.0\n",
            "    Uninstalling tensorflow-2.3.0:\n",
            "      Successfully uninstalled tensorflow-2.3.0\n",
            "Successfully installed gast-0.2.2 keras-applications-1.0.8 tensorboard-1.15.0 tensorflow-1.15.2 tensorflow-estimator-1.15.1\n",
            "Collecting git+https://github.com/deepmipt/bert.git@feat/multi_gpu\n",
            "  Cloning https://github.com/deepmipt/bert.git (to revision feat/multi_gpu) to /tmp/pip-req-build-c4mn6bgn\n",
            "  Running command git clone -q https://github.com/deepmipt/bert.git /tmp/pip-req-build-c4mn6bgn\n",
            "Building wheels for collected packages: bert-dp\n",
            "  Building wheel for bert-dp (setup.py) ... \u001b[?25l\u001b[?25hdone\n",
            "  Created wheel for bert-dp: filename=bert_dp-1.0-cp36-none-any.whl size=23581 sha256=fb2fcb3f7619b7a462fe9226c6c11439fa0c26bc2353d0459c08bfd0454d15f7\n",
            "  Stored in directory: /tmp/pip-ephem-wheel-cache-us1a2mec/wheels/1e/41/94/886107eaf932532594886fd8bfc9cb9d4db632e94add49d326\n",
            "Successfully built bert-dp\n",
            "Installing collected packages: bert-dp\n",
            "Successfully installed bert-dp-1.0\n"
          ],
          "name": "stdout"
        }
      ]
    },
    {
      "cell_type": "code",
      "metadata": {
        "id": "1UfllWbPgmyp",
        "colab_type": "code",
        "colab": {}
      },
      "source": [
        "import pandas as pd\n",
        "import scipy\n",
        "import csv\n",
        "#df = pd.read_csv('resume_to_hackaton.csv')\n",
        "data = []\n",
        "n = 0\n",
        "with open('resume_to_hackaton.csv', newline='', encoding='utf-8') as csvfile:\n",
        "  reader = csv.DictReader(csvfile, delimiter=';')\n",
        "  for row in reader:\n",
        "      n += 1\n",
        "      data.append(row)\n",
        "  df = pd.DataFrame(data)"
      ],
      "execution_count": 7,
      "outputs": []
    },
    {
      "cell_type": "code",
      "metadata": {
        "id": "CgxYGePfgm6Q",
        "colab_type": "code",
        "colab": {
          "base_uri": "https://localhost:8080/",
          "height": 1000
        },
        "outputId": "a0f7d62c-84dc-4663-b2cf-88ad92e7ba9c"
      },
      "source": [
        "from deeppavlov import build_model, configs\n",
        "from deeppavlov.core.common.file import read_json\n",
        "\n",
        "bert_config = read_json(configs.embedder.bert_embedder)\n",
        "#bert_config['metadata']['variables']['BERT_PATH'] = ''\n",
        "\n",
        "m = build_model(bert_config)\n",
        "\n",
        "from deeppavlov import build_model, configs\n",
        "\n",
        "model = build_model(configs.squad.squad_ru_bert_infer, download=True)"
      ],
      "execution_count": 8,
      "outputs": [
        {
          "output_type": "stream",
          "text": [
            "[nltk_data] Downloading package punkt to /root/nltk_data...\n",
            "[nltk_data]   Unzipping tokenizers/punkt.zip.\n",
            "[nltk_data] Downloading package stopwords to /root/nltk_data...\n",
            "[nltk_data]   Unzipping corpora/stopwords.zip.\n",
            "[nltk_data] Downloading package perluniprops to /root/nltk_data...\n",
            "[nltk_data]   Unzipping misc/perluniprops.zip.\n",
            "[nltk_data] Downloading package nonbreaking_prefixes to\n",
            "[nltk_data]     /root/nltk_data...\n",
            "[nltk_data]   Unzipping corpora/nonbreaking_prefixes.zip.\n",
            "2020-09-19 18:46:28.838 INFO in 'deeppavlov.core.data.utils'['utils'] at line 94: Downloading from http://files.deeppavlov.ai/deeppavlov_data/squad_ru_bert.tar.gz to /root/.deeppavlov/squad_ru_bert.tar.gz\n",
            "100%|██████████| 660M/660M [02:28<00:00, 4.45MB/s]\n",
            "2020-09-19 18:48:57.531 INFO in 'deeppavlov.core.data.utils'['utils'] at line 269: Extracting /root/.deeppavlov/squad_ru_bert.tar.gz archive into /root/.deeppavlov/models\n",
            "2020-09-19 18:49:04.642 INFO in 'deeppavlov.core.data.utils'['utils'] at line 94: Downloading from http://files.deeppavlov.ai/deeppavlov_data/bert/multi_cased_L-12_H-768_A-12.zip to /root/.deeppavlov/downloads/multi_cased_L-12_H-768_A-12.zip\n",
            "100%|██████████| 663M/663M [02:23<00:00, 4.62MB/s]\n",
            "2020-09-19 18:51:28.519 INFO in 'deeppavlov.core.data.utils'['utils'] at line 269: Extracting /root/.deeppavlov/downloads/multi_cased_L-12_H-768_A-12.zip archive into /root/.deeppavlov/downloads/bert_models\n"
          ],
          "name": "stderr"
        },
        {
          "output_type": "stream",
          "text": [
            "WARNING:tensorflow:From /usr/local/lib/python3.6/dist-packages/deeppavlov/core/models/tf_model.py:37: The name tf.Session is deprecated. Please use tf.compat.v1.Session instead.\n",
            "\n",
            "WARNING:tensorflow:From /usr/local/lib/python3.6/dist-packages/deeppavlov/core/models/tf_model.py:222: The name tf.placeholder is deprecated. Please use tf.compat.v1.placeholder instead.\n",
            "\n",
            "WARNING:tensorflow:From /usr/local/lib/python3.6/dist-packages/deeppavlov/core/models/tf_model.py:222: The name tf.train.Optimizer is deprecated. Please use tf.compat.v1.train.Optimizer instead.\n",
            "\n",
            "WARNING:tensorflow:From /usr/local/lib/python3.6/dist-packages/bert_dp/tokenization.py:125: The name tf.gfile.GFile is deprecated. Please use tf.io.gfile.GFile instead.\n",
            "\n",
            "WARNING:tensorflow:From /usr/local/lib/python3.6/dist-packages/deeppavlov/core/models/tf_model.py:193: The name tf.train.AdamOptimizer is deprecated. Please use tf.compat.v1.train.AdamOptimizer instead.\n",
            "\n",
            "WARNING:tensorflow:From /usr/local/lib/python3.6/dist-packages/deeppavlov/models/bert/bert_squad.py:81: The name tf.ConfigProto is deprecated. Please use tf.compat.v1.ConfigProto instead.\n",
            "\n",
            "WARNING:tensorflow:From /usr/local/lib/python3.6/dist-packages/deeppavlov/models/bert/bert_squad.py:178: The name tf.placeholder_with_default is deprecated. Please use tf.compat.v1.placeholder_with_default instead.\n",
            "\n",
            "WARNING:tensorflow:From /usr/local/lib/python3.6/dist-packages/bert_dp/modeling.py:178: The name tf.variable_scope is deprecated. Please use tf.compat.v1.variable_scope instead.\n",
            "\n",
            "WARNING:tensorflow:From /usr/local/lib/python3.6/dist-packages/bert_dp/modeling.py:418: The name tf.get_variable is deprecated. Please use tf.compat.v1.get_variable instead.\n",
            "\n",
            "WARNING:tensorflow:From /usr/local/lib/python3.6/dist-packages/bert_dp/modeling.py:499: The name tf.assert_less_equal is deprecated. Please use tf.compat.v1.assert_less_equal instead.\n",
            "\n",
            "WARNING:tensorflow:\n",
            "The TensorFlow contrib module will not be included in TensorFlow 2.0.\n",
            "For more information, please see:\n",
            "  * https://github.com/tensorflow/community/blob/master/rfcs/20180907-contrib-sunset.md\n",
            "  * https://github.com/tensorflow/addons\n",
            "  * https://github.com/tensorflow/io (for I/O related ops)\n",
            "If you depend on functionality not listed there, please file an issue.\n",
            "\n",
            "WARNING:tensorflow:From /usr/local/lib/python3.6/dist-packages/bert_dp/modeling.py:366: calling dropout (from tensorflow.python.ops.nn_ops) with keep_prob is deprecated and will be removed in a future version.\n",
            "Instructions for updating:\n",
            "Please use `rate` instead of `keep_prob`. Rate should be set to `rate = 1 - keep_prob`.\n",
            "WARNING:tensorflow:From /usr/local/lib/python3.6/dist-packages/bert_dp/modeling.py:680: dense (from tensorflow.python.layers.core) is deprecated and will be removed in a future version.\n",
            "Instructions for updating:\n",
            "Use keras.layers.Dense instead.\n",
            "WARNING:tensorflow:From /usr/local/lib/python3.6/dist-packages/tensorflow_core/python/layers/core.py:187: Layer.apply (from tensorflow.python.keras.engine.base_layer) is deprecated and will be removed in a future version.\n",
            "Instructions for updating:\n",
            "Please use `layer.__call__` method instead.\n",
            "WARNING:tensorflow:From /usr/local/lib/python3.6/dist-packages/bert_dp/modeling.py:283: The name tf.erf is deprecated. Please use tf.math.erf instead.\n",
            "\n",
            "WARNING:tensorflow:From /usr/local/lib/python3.6/dist-packages/deeppavlov/models/bert/bert_squad.py:154: The name tf.matrix_band_part is deprecated. Please use tf.linalg.band_part instead.\n",
            "\n",
            "WARNING:tensorflow:From /usr/local/lib/python3.6/dist-packages/deeppavlov/models/bert/bert_squad.py:166: softmax_cross_entropy_with_logits (from tensorflow.python.ops.nn_ops) is deprecated and will be removed in a future version.\n",
            "Instructions for updating:\n",
            "\n",
            "Future major versions of TensorFlow will allow gradients to flow\n",
            "into the labels input on backprop by default.\n",
            "\n",
            "See `tf.nn.softmax_cross_entropy_with_logits_v2`.\n",
            "\n",
            "WARNING:tensorflow:From /usr/local/lib/python3.6/dist-packages/deeppavlov/core/models/tf_model.py:234: The name tf.train.AdadeltaOptimizer is deprecated. Please use tf.compat.v1.train.AdadeltaOptimizer instead.\n",
            "\n",
            "WARNING:tensorflow:From /usr/local/lib/python3.6/dist-packages/deeppavlov/core/models/tf_model.py:127: The name tf.get_collection is deprecated. Please use tf.compat.v1.get_collection instead.\n",
            "\n",
            "WARNING:tensorflow:From /usr/local/lib/python3.6/dist-packages/deeppavlov/core/models/tf_model.py:127: The name tf.GraphKeys is deprecated. Please use tf.compat.v1.GraphKeys instead.\n",
            "\n",
            "WARNING:tensorflow:From /usr/local/lib/python3.6/dist-packages/deeppavlov/models/bert/bert_squad.py:89: The name tf.global_variables_initializer is deprecated. Please use tf.compat.v1.global_variables_initializer instead.\n",
            "\n",
            "WARNING:tensorflow:From /usr/local/lib/python3.6/dist-packages/deeppavlov/models/bert/bert_squad.py:94: checkpoint_exists (from tensorflow.python.training.checkpoint_management) is deprecated and will be removed in a future version.\n",
            "Instructions for updating:\n",
            "Use standard file APIs to check for files with this prefix.\n"
          ],
          "name": "stdout"
        },
        {
          "output_type": "stream",
          "text": [
            "2020-09-19 18:51:54.324 INFO in 'deeppavlov.core.models.tf_model'['tf_model'] at line 51: [loading model from /root/.deeppavlov/models/squad_ru_bert/model_multi]\n"
          ],
          "name": "stderr"
        },
        {
          "output_type": "stream",
          "text": [
            "WARNING:tensorflow:From /usr/local/lib/python3.6/dist-packages/deeppavlov/core/models/tf_model.py:54: The name tf.train.Saver is deprecated. Please use tf.compat.v1.train.Saver instead.\n",
            "\n",
            "INFO:tensorflow:Restoring parameters from /root/.deeppavlov/models/squad_ru_bert/model_multi\n"
          ],
          "name": "stdout"
        }
      ]
    },
    {
      "cell_type": "code",
      "metadata": {
        "id": "286vwMQDgnBY",
        "colab_type": "code",
        "colab": {}
      },
      "source": [
        "## Use embeddings to classify each resume by its position into one of 3 categories or neither\n",
        "\n",
        "categs = []\n",
        "categs.append(['кладовщик','кладовщик-комплектовщик','комплектовщик','старший кладовщик','грузчик-комплектовщик','оператор склада','работник склада','кладовщик-оператор','начальник смены склада','оператор складского учета','помощник кладовщика','кладовщик-грузчик','техник склада','сотрудник склада','кладовщик-экспедитор','старший смены склада','комплектовщик заказов'])\n",
        "categs.append(['водитель погрузчика','водитель автопогрузчика','водитель электропогрузчика','машинист экскаватора-погрузчика','машинист погрузчика','водитель фронтального погрузчика','машинист экскаватора погрузчика','машинист фронтального погрузчика'])\n",
        "categs.append(['официант','официант-бармен','менеджер ресторана','старший официант','бармен-официант','член бригады ресторана','работник ресторана','официантка','сотрудник ресторана','официант, бармен','официант-кассир','официант, администратор', 'помощник официанта'])\n"
      ],
      "execution_count": 10,
      "outputs": []
    },
    {
      "cell_type": "code",
      "metadata": {
        "id": "kxMOV9vrgnIQ",
        "colab_type": "code",
        "colab": {}
      },
      "source": [
        "all_texts = []\n",
        "all_sent_mean_embs = []\n",
        "for i in range(0,int(len(df)/1000)):\n",
        "  texts = [(s.lower()) for s in list(set(df.iloc[i*1000:i*1000 + 1000].position)) ]\n",
        "  all_texts.extend(texts)\n",
        "  tokens, token_embs, subtokens, subtoken_embs, sent_max_embs, sent_mean_embs, bert_pooler_outputs = m(texts)\n",
        "  all_sent_mean_embs.extend(sent_mean_embs)"
      ],
      "execution_count": 11,
      "outputs": []
    },
    {
      "cell_type": "code",
      "metadata": {
        "id": "OcFuHMU5gnPy",
        "colab_type": "code",
        "colab": {}
      },
      "source": [
        "all_categ_mean_embs = []\n",
        "for ci, c in enumerate(categs):\n",
        "  _,_,_,_,categ_max_embs,categ_mean_embs,_ = m(c)\n",
        "  all_categ_mean_embs.append(categ_mean_embs)"
      ],
      "execution_count": 12,
      "outputs": []
    },
    {
      "cell_type": "code",
      "metadata": {
        "id": "96ZCJHJignXY",
        "colab_type": "code",
        "colab": {}
      },
      "source": [
        "n = 0\n",
        "df_model = []\n",
        "for i, row in df.iterrows():\n",
        "  position = row['position'].lower()\n",
        "  if not position in all_texts:\n",
        "    print('not found %s' % row['position'])\n",
        "    df_model.append('')\n",
        "    continue\n",
        "  n += 1\n",
        "  idx = all_texts.index(position)\n",
        "  #print(row['position'], end='\\t')\n",
        "  mind = 0.3\n",
        "  mincat = ''\n",
        "  for ci, cat in enumerate(categs):\n",
        "     for cci, ccat in enumerate(cat):\n",
        "        v1 = all_sent_mean_embs[idx]\n",
        "        v2 = all_categ_mean_embs[ci][cci]\n",
        "        d = scipy.spatial.distance.cosine(v1, v2)\n",
        "        if d < mind:\n",
        "          mind = d\n",
        "          mincat2 = ccat\n",
        "          mincat = cat[0]\n",
        "     #print(cat, d, end='\\t')\n",
        "  df_model.append(mincat)\n"
      ],
      "execution_count": 13,
      "outputs": []
    },
    {
      "cell_type": "code",
      "metadata": {
        "id": "JkaIz2w6hDVC",
        "colab_type": "code",
        "colab": {}
      },
      "source": [
        "pd.DataFrame(df_model).to_csv('model.csv')\n",
        "!cp model.csv \"/content/gdrive/My Drive/Hakaton2/\""
      ],
      "execution_count": 14,
      "outputs": []
    },
    {
      "cell_type": "code",
      "metadata": {
        "id": "mqWL0UNlhDaZ",
        "colab_type": "code",
        "colab": {
          "base_uri": "https://localhost:8080/",
          "height": 109
        },
        "outputId": "cab6d308-adff-4439-8bab-a1d30e72b93d"
      },
      "source": [
        "pd.DataFrame(df_model)[0].value_counts()"
      ],
      "execution_count": 15,
      "outputs": [
        {
          "output_type": "execute_result",
          "data": {
            "text/plain": [
              "официант               45949\n",
              "кладовщик              41573\n",
              "                        6499\n",
              "водитель погрузчика     5979\n",
              "Name: 0, dtype: int64"
            ]
          },
          "metadata": {
            "tags": []
          },
          "execution_count": 15
        }
      ]
    },
    {
      "cell_type": "code",
      "metadata": {
        "id": "LzhhFKNqhDev",
        "colab_type": "code",
        "colab": {}
      },
      "source": [
        "questions = {\n",
        "    'официант': [{\n",
        "        'id': 'q3',\n",
        "        'question': 'профессиональное образовательное учреждение, где вы учились, и специальность',\n",
        "        'examples': ['МГУ, философский факультет']\n",
        "    }, {\n",
        "        'id': 'q7',\n",
        "        'question': 'дополнительные профессиональные знания и навыки',\n",
        "        'examples': ['Бариста', 'Сомелье','R-keeper', 'Iiko', 'Консультант по кофе', 'Обучение персонала', 'Обслуживание банкетов', '1С предприятие', 'Работа с премиальным сегментом', 'Организация свадеб', 'Работа на выездных мероприятиях'],\n",
        "        'tolerance': 0.5\n",
        "    }],\n",
        "    'кладовщик': [{\n",
        "        'id': 'q6',\n",
        "        'question': 'С какой системой хранения Вы имели опыт работы?',\n",
        "        'examples': ['Адресная', 'Стеллажная']\n",
        "    }, {\n",
        "        'id': 'q8',\n",
        "        'question': 'Опыт с инструментарием',\n",
        "        'examples': ['Терминал сбора данных','Рохля','Размерная сетка товара','1с','автомобиль','машина','весы','тележка','база данных'],\n",
        "        'tolerance': 0.25\n",
        "    }, {\n",
        "        'id': 'q9',\n",
        "        'question': 'Типы работ',\n",
        "        'examples': ['Приём товара', 'Проверка качества товара', 'Размещение товара','Сбор заказа','Обучение новичков'],\n",
        "        'tolerance': 0.5\n",
        "    }, {\n",
        "        'id': 'q6',\n",
        "        'question': 'С какой системой хранения Вы имели опыт работы?',\n",
        "        'examples': ['Адресная система хранения', 'Стеллажная система хранения']}],\n",
        "    'водитель погрузчика': [\n",
        "        {\n",
        "            'id': 'q10',\n",
        "        'question': 'Какой техникой вы управляете?',\n",
        "        'examples': ['Автопогрузчик', 'Высотный штабелер','Ричтрак'],\n",
        "         'tolerance': 0.5\n",
        "    }, {\n",
        "        'id': 'q11',\n",
        "        'question': 'Максимальная высота поднятия груза',\n",
        "        'examples': ['6', '7-8', '9']\n",
        "    }, {\n",
        "        'id': 'q12',\n",
        "        'question': 'С какой системой хранения Вы имели опыт работы?',\n",
        "         'examples': ['Адресная система хранения', 'Стеллажная система хранения']\n",
        "    }, {\n",
        "        'id': 'q14',\n",
        "        'question': 'Типы работ',\n",
        "        'examples': ['Комплектация', 'Погрузочно-разгрузочные работы','Ремонт погрузчика']\n",
        "    }, {\n",
        "        'id': 'q16',\n",
        "        'question': 'Ключевые качества',\n",
        "        'examples': ['Внимательность', 'Активность', 'Ответственность', 'Аккуратность']\n",
        "    }]\n",
        "}"
      ],
      "execution_count": 28,
      "outputs": []
    },
    {
      "cell_type": "code",
      "metadata": {
        "id": "03_V44SbmxR5",
        "colab_type": "code",
        "colab": {}
      },
      "source": [
        "target = []\n",
        "target_confidence = []\n",
        "df_model = pd.DataFrame(df_model)\n",
        "for i, row in df.iterrows():\n",
        "  if df_model.iloc[i][0] == '':\n",
        "    continue\n",
        "  targ = {}  \n",
        "  conf = {}\n",
        "  for q in questions[df_model.iloc[i][0]]:\n",
        "    targ[q['id']] = ''\n",
        "    conf[q['id']] = 0\n",
        "  target.append(targ)\n",
        "  target_confidence.append(conf)"
      ],
      "execution_count": 71,
      "outputs": []
    },
    {
      "cell_type": "code",
      "metadata": {
        "id": "9xR5E5fJv-Gy",
        "colab_type": "code",
        "colab": {
          "base_uri": "https://localhost:8080/",
          "height": 201
        },
        "outputId": "e8286bf8-a475-4457-aef0-c37ed8b9909f"
      },
      "source": [
        "target[0:10]"
      ],
      "execution_count": 72,
      "outputs": [
        {
          "output_type": "execute_result",
          "data": {
            "text/plain": [
              "[{'q6': '', 'q8': '', 'q9': ''},\n",
              " {'q6': '', 'q8': '', 'q9': ''},\n",
              " {'q6': '', 'q8': '', 'q9': ''},\n",
              " {'q3': '', 'q7': ''},\n",
              " {'q3': '', 'q7': ''},\n",
              " {'q3': '', 'q7': ''},\n",
              " {'q3': '', 'q7': ''},\n",
              " {'q6': '', 'q8': '', 'q9': ''},\n",
              " {'q10': '', 'q11': '', 'q12': '', 'q14': '', 'q16': ''},\n",
              " {'q3': '', 'q7': ''}]"
            ]
          },
          "metadata": {
            "tags": []
          },
          "execution_count": 72
        }
      ]
    },
    {
      "cell_type": "code",
      "metadata": {
        "id": "b7P1KGtKo8Px",
        "colab_type": "code",
        "colab": {}
      },
      "source": [
        "found = {}\n",
        "for categ in questions:\n",
        "  found[categ] = {}\n",
        "  for q in questions[categ]:\n",
        "    found[categ][q['id']] = 0"
      ],
      "execution_count": 33,
      "outputs": []
    },
    {
      "cell_type": "code",
      "metadata": {
        "id": "y5Cy6Mtqv_6J",
        "colab_type": "code",
        "colab": {
          "base_uri": "https://localhost:8080/",
          "height": 72
        },
        "outputId": "8bf74ebd-3833-42a6-95b0-98187c3c6ae5"
      },
      "source": [
        "found"
      ],
      "execution_count": 35,
      "outputs": [
        {
          "output_type": "execute_result",
          "data": {
            "text/plain": [
              "{'водитель погрузчика': {'q10': 0, 'q11': 0, 'q12': 0, 'q14': 0, 'q16': 0},\n",
              " 'кладовщик': {'q6': 0, 'q8': 0, 'q9': 0},\n",
              " 'официант': {'q3': 0, 'q7': 0}}"
            ]
          },
          "metadata": {
            "tags": []
          },
          "execution_count": 35
        }
      ]
    },
    {
      "cell_type": "code",
      "metadata": {
        "id": "w5frauaLyivh",
        "colab_type": "code",
        "colab": {}
      },
      "source": [
        "example_embeddings = {}\n",
        "for categ in questions:\n",
        "  example_embeddings[categ] = {}\n",
        "  for question in questions[categ]:\n",
        "     storage_types = [s.lower() for s in question['examples']]\n",
        "     _, _, _, _, _, sent_mean_embs, _ = m(storage_types)\n",
        "     example_embeddings[categ][question['id']] = sent_mean_embs"
      ],
      "execution_count": 56,
      "outputs": []
    },
    {
      "cell_type": "code",
      "metadata": {
        "id": "7PU7hE4bzt0B",
        "colab_type": "code",
        "colab": {
          "base_uri": "https://localhost:8080/",
          "height": 1000
        },
        "outputId": "7e88c224-61dd-45a2-c3f5-ff6be9307cf2"
      },
      "source": [
        "example_embeddings"
      ],
      "execution_count": 57,
      "outputs": [
        {
          "output_type": "execute_result",
          "data": {
            "text/plain": [
              "{'водитель погрузчика': {'q10': array([[-0.39262608, -0.26232183,  0.86531025, ...,  0.51973206,\n",
              "           0.01966359,  0.01745595],\n",
              "         [ 0.01021749, -0.15402523,  0.73113036, ...,  0.40595794,\n",
              "          -0.10759714, -0.11763042],\n",
              "         [ 0.0758696 ,  0.09902505,  1.0425296 , ...,  0.3780307 ,\n",
              "           0.00345062,  0.10116645]], dtype=float32),\n",
              "  'q11': array([[ 0.4083024 , -0.09039118,  0.13535054, ...,  0.21322541,\n",
              "           0.4284555 ,  0.11863243],\n",
              "         [-0.1649528 ,  0.08231421,  0.5335603 , ...,  0.5485223 ,\n",
              "           0.6661161 , -0.04819163],\n",
              "         [-0.00146606,  0.13197371,  0.1574427 , ...,  0.166853  ,\n",
              "           0.40353552,  0.3014853 ]], dtype=float32),\n",
              "  'q12': array([[-0.42788607, -0.81138873,  1.6623791 , ...,  0.10896667,\n",
              "           0.3587022 , -0.27656096],\n",
              "         [-0.44816935, -0.2217617 ,  1.1086879 , ...,  0.04658059,\n",
              "           0.19205397, -0.3339546 ]], dtype=float32),\n",
              "  'q14': array([[ 0.03815001, -0.28721747,  0.5707122 , ...,  0.15109546,\n",
              "          -0.2678766 ,  0.10011275],\n",
              "         [-0.03143954, -0.04879511,  0.7529064 , ...,  0.04768351,\n",
              "          -0.0352898 , -0.13955225],\n",
              "         [-0.14925966, -0.556893  ,  0.9652228 , ...,  0.29537576,\n",
              "          -0.06386124,  0.17675315]], dtype=float32),\n",
              "  'q16': array([[ 0.24060392, -0.25239614,  0.78097653, ...,  0.6267122 ,\n",
              "          -0.15344808, -0.06379702],\n",
              "         [ 0.22165397, -0.29843155,  0.43375242, ...,  0.20645073,\n",
              "           0.13900232, -0.01468574],\n",
              "         [ 0.06268372, -0.1115966 ,  1.1880833 , ...,  0.05551427,\n",
              "          -0.34736606, -0.41248384],\n",
              "         [-0.0442479 , -0.3126401 ,  0.49480888, ...,  0.66749924,\n",
              "           0.162064  , -0.21536101]], dtype=float32)},\n",
              " 'кладовщик': {'q6': array([[-0.42788607, -0.81138873,  1.6623791 , ...,  0.10896667,\n",
              "           0.3587022 , -0.27656096],\n",
              "         [-0.44816935, -0.2217617 ,  1.1086879 , ...,  0.04658059,\n",
              "           0.19205397, -0.3339546 ]], dtype=float32),\n",
              "  'q8': array([[ 0.08652486, -0.6940374 ,  0.8279045 , ...,  0.37191582,\n",
              "           0.29147834, -0.13713634],\n",
              "         [ 0.05044629, -0.37704173,  1.1785891 , ...,  0.13931695,\n",
              "          -0.09034339,  0.2921303 ],\n",
              "         [ 0.18850891, -0.4778544 ,  1.3703269 , ...,  0.7584448 ,\n",
              "           0.04379171, -0.02288209],\n",
              "         ...,\n",
              "         [ 0.07218688, -0.47107115,  1.4568653 , ...,  0.5391358 ,\n",
              "          -0.17857763,  0.17099683],\n",
              "         [ 0.266091  , -0.12692982,  0.520171  , ...,  0.2975661 ,\n",
              "          -0.34841597, -0.20530593],\n",
              "         [ 0.46505302, -1.2622708 ,  1.5141096 , ...,  0.06699761,\n",
              "           0.266465  , -0.15917979]], dtype=float32),\n",
              "  'q9': array([[-0.22432418, -0.2849067 ,  1.0038096 , ...,  0.13538949,\n",
              "          -0.13142453,  0.26214328],\n",
              "         [-0.3474978 , -0.5573845 ,  0.83101773, ...,  0.3267174 ,\n",
              "           0.35147092,  0.14404547],\n",
              "         [-0.12268686, -0.5569487 ,  0.3523838 , ...,  0.46976167,\n",
              "          -0.09727321,  0.67199695],\n",
              "         [-0.12451846,  0.23020308,  0.6252367 , ...,  0.4482452 ,\n",
              "          -0.15453604, -0.10293756],\n",
              "         [ 0.04485884,  0.23684604,  0.6525333 , ...,  0.1137986 ,\n",
              "           0.20340796, -0.10860032]], dtype=float32)},\n",
              " 'официант': {'q3': array([[-3.49683734e-03, -3.67177427e-01,  6.42146349e-01,\n",
              "           3.56276371e-02, -9.16354824e-03, -8.47330391e-01,\n",
              "           2.60389209e-01,  4.31764483e-01,  1.07580081e-01,\n",
              "           2.85104454e-01,  2.94104546e-01,  1.41336858e-01,\n",
              "          -1.45803407e-01, -1.02807365e-01,  2.64382400e-02,\n",
              "          -4.53993857e-01,  2.94974685e-01,  3.08460981e-01,\n",
              "           3.44124913e-01,  5.43982267e-01, -1.80637151e-01,\n",
              "           1.67267174e-01,  9.50329676e-02,  8.78523514e-02,\n",
              "          -7.87828863e-02,  2.55612701e-01, -6.82831526e-01,\n",
              "           9.91012231e-02,  1.11729331e-01, -5.79092860e-01,\n",
              "           1.79479584e-01,  8.01710710e-02,  1.10577755e-01,\n",
              "           1.74670964e-01, -1.02429643e-01,  2.28142157e-01,\n",
              "          -1.93753421e-01,  3.04813311e-02,  7.32257307e-01,\n",
              "           5.38276017e-01, -8.08498681e-01, -3.88438344e-01,\n",
              "          -7.05234706e-02, -1.51353136e-01,  1.90122336e-01,\n",
              "          -4.17415500e-02,  1.51397929e-01,  2.07312331e-02,\n",
              "           2.57708967e-01, -1.16650903e+00, -1.28082991e-01,\n",
              "          -2.21931458e-01,  1.98988378e-01, -4.31638271e-01,\n",
              "          -4.58760411e-01, -1.42003238e-01,  3.47822666e-01,\n",
              "           4.38044459e-01, -1.83550194e-01,  2.11452067e-01,\n",
              "          -2.07099468e-01,  3.02978963e-01,  4.83655095e-01,\n",
              "          -2.47600824e-01, -3.90500277e-01, -6.05971068e-02,\n",
              "           1.34465382e-01, -1.43033251e-01, -1.99851215e-01,\n",
              "           8.62690508e-01, -1.93185493e-01,  3.52240682e-01,\n",
              "           5.15460610e-01,  3.66844475e-01, -1.59195215e-01,\n",
              "           6.11850023e-01,  2.58421212e-01, -2.38727808e-01,\n",
              "           3.25217962e-01, -4.70209867e-01, -9.88315046e-02,\n",
              "           2.88935423e-01,  2.67531186e-01,  3.93725991e-01,\n",
              "          -2.73792982e-01, -1.95367202e-01,  9.24394056e-02,\n",
              "          -3.92469168e-01,  4.18792889e-02, -7.57039607e-01,\n",
              "           5.33827960e-01,  3.60945016e-02, -3.88521701e-02,\n",
              "           5.85458994e-01, -4.56908435e-01,  3.30684781e-01,\n",
              "           1.44468486e-01,  7.40796104e-02, -6.76792338e-02,\n",
              "          -3.15433562e-01,  2.94001233e-02,  2.06964999e-01,\n",
              "           1.23940520e-01,  4.66660000e-02,  2.11954162e-01,\n",
              "           3.89889121e-01,  3.16747069e-01,  4.35648635e-02,\n",
              "           5.55583715e-01,  3.69596690e-01,  2.93238699e-01,\n",
              "           2.37122804e-01, -5.87307692e-01, -1.17957801e-01,\n",
              "          -5.05945012e-02, -1.13149181e-01,  2.47282818e-01,\n",
              "          -4.52396244e-01, -1.18531056e-01, -3.17399502e-01,\n",
              "          -7.65426680e-02, -8.04257095e-02,  7.13782981e-02,\n",
              "          -1.85486615e-01, -9.44254771e-02, -6.77459478e-01,\n",
              "          -2.95463026e-01,  1.50728393e-02,  6.66645229e-01,\n",
              "           1.80651676e-02,  2.42903501e-01,  1.09406948e-01,\n",
              "           1.01834610e-01, -2.45703995e-01, -2.02416271e-01,\n",
              "           1.52812928e-01, -1.92456931e-01,  2.67031282e-01,\n",
              "          -9.94860455e-02,  5.94408095e-01,  4.11094397e-01,\n",
              "          -3.66047584e-02, -1.16898164e-01, -6.88883841e-01,\n",
              "          -1.37589961e-01,  2.04512477e-01, -5.40947676e-01,\n",
              "           2.33481482e-01,  2.15672910e-01, -4.24048632e-01,\n",
              "           2.52314150e-01, -1.37637794e-01,  5.76527715e-01,\n",
              "           1.03842765e-01, -7.44338408e-02,  5.30355692e-01,\n",
              "           6.19486690e-01, -2.21948326e-01, -5.64425170e-01,\n",
              "           7.43525088e-01,  2.57064492e-01, -5.93411736e-02,\n",
              "          -3.20306957e-01,  4.46759105e-01,  3.62065375e-01,\n",
              "           1.22264184e-01, -2.64835328e-01, -8.96499828e-02,\n",
              "          -2.22235754e-01,  3.77400279e-01, -3.22473824e-01,\n",
              "          -1.63645133e-01,  1.01278625e-01, -1.88421652e-01,\n",
              "           7.47721866e-02, -2.77530044e-01, -1.42669201e-01,\n",
              "           3.76126349e-01, -1.55385524e-01, -5.89387357e-01,\n",
              "          -7.95394480e-02,  5.56263924e-02,  6.51547685e-02,\n",
              "          -5.91558635e-01,  6.06942654e-01, -2.30257347e-01,\n",
              "           3.07338629e-02,  4.72769201e-01,  3.14631999e-01,\n",
              "           3.37474555e-01,  2.75291890e-01, -4.15055864e-02,\n",
              "           3.91575664e-01,  2.95430988e-01, -4.25941683e-02,\n",
              "           5.91910422e-01,  3.35449696e-01, -1.45060420e-01,\n",
              "          -2.32254773e-01,  2.35828564e-01, -3.29135001e-01,\n",
              "           1.79597616e-01, -9.92296264e-02, -2.80487478e-01,\n",
              "          -8.49751383e-02,  1.05630672e+00,  8.34771246e-02,\n",
              "          -2.49815628e-01, -9.23970565e-02,  4.39635813e-01,\n",
              "          -3.10452342e-01,  2.43106052e-01,  1.29116848e-01,\n",
              "           1.82720780e-01,  4.17197764e-01,  2.13495299e-01,\n",
              "           3.23095508e-02,  9.38062146e-02,  1.09196357e-01,\n",
              "           1.80137917e-01, -4.02512908e-01,  3.46869141e-01,\n",
              "          -8.06290925e-01,  2.24974737e-01, -4.09081101e-01,\n",
              "          -3.39201599e-01,  1.31340131e-01,  2.03560591e-01,\n",
              "           6.88720167e-01, -4.03328031e-01, -4.99942243e-01,\n",
              "          -6.97909057e-01, -7.26642385e-02,  2.77885288e-01,\n",
              "           6.17129952e-02,  1.19149245e-01,  3.65550101e-01,\n",
              "          -1.74265519e-01,  2.89704621e-01,  2.99160153e-01,\n",
              "           1.34918377e-01, -4.89407480e-01,  2.99044877e-01,\n",
              "           1.12604201e-02,  2.45216608e-01, -7.26591237e-03,\n",
              "          -5.70846319e-01,  8.42604935e-01, -2.12984115e-01,\n",
              "          -5.04386187e-01, -3.05504233e-01, -9.77609977e-02,\n",
              "           1.57688737e-01, -3.71943742e-01, -1.69939265e-01,\n",
              "          -4.78117108e-01,  4.90165502e-02, -6.63605630e-02,\n",
              "           5.71028471e-01, -5.89903593e-01,  1.19014964e-01,\n",
              "          -7.03533068e-02, -4.11784202e-01, -4.93603945e-02,\n",
              "           4.45604950e-01,  4.07945514e-01, -4.43650514e-01,\n",
              "           7.22152665e-02, -1.86143845e-01,  2.00471818e-01,\n",
              "           5.80025673e-01,  5.46654165e-01,  8.99962038e-02,\n",
              "           3.36412370e-01,  1.68937333e-02, -1.81985021e-01,\n",
              "           1.56793416e-01,  2.12781936e-01, -1.79009512e-01,\n",
              "           2.15742722e-01,  3.31800997e-01, -3.95675510e-01,\n",
              "          -2.85320222e-01,  3.37736398e-01,  5.60989320e-01,\n",
              "          -2.63938427e-01, -7.78045058e-02, -1.19640961e-01,\n",
              "          -7.93779548e-03, -6.16516650e-01,  1.38140932e-01,\n",
              "          -1.74394071e-01, -2.25996435e-01, -2.90438056e-01,\n",
              "          -1.75715029e-01, -3.49742435e-02, -2.61738207e-02,\n",
              "          -9.71931517e-02,  9.58982408e-02, -7.76368976e-02,\n",
              "           2.46312588e-01, -4.46967870e-01, -3.30257826e-02,\n",
              "           9.37145948e-02, -3.32219452e-01,  2.67366499e-01,\n",
              "           2.79837679e-02, -1.32434919e-01,  2.72548586e-01,\n",
              "           2.91155934e-01, -1.46834016e-01,  4.80628431e-01,\n",
              "          -4.65023190e-01,  4.61698361e-02, -6.91550791e-01,\n",
              "          -3.60529900e-01,  7.85573721e-01, -4.43589121e-01,\n",
              "          -6.38597384e-02,  3.80072713e-01,  2.42733642e-01,\n",
              "          -3.70703816e-01, -9.85506829e-03, -1.42374262e-01,\n",
              "           2.71793604e-01,  5.70725203e-01, -7.13747501e-01,\n",
              "           2.14582860e-01, -3.55446011e-01,  2.51703739e-01,\n",
              "          -2.95108438e-01,  4.84872073e-01,  4.83321100e-02,\n",
              "          -3.21563393e-01, -1.75381694e-02,  2.27437466e-01,\n",
              "          -1.75006196e-01, -2.48210318e-02, -1.08097903e-01,\n",
              "          -3.09836984e-01,  7.32312724e-02, -3.20432633e-01,\n",
              "           4.46282059e-01, -6.73501492e-02,  2.40724728e-01,\n",
              "          -4.23041701e-01, -3.17839980e-01,  5.96916258e-01,\n",
              "           8.68864208e-02, -1.94181547e-01, -1.33705616e-01,\n",
              "          -6.64819479e-02, -4.21371199e-02,  1.79497987e-01,\n",
              "           7.02315718e-02,  3.27160478e-01, -4.36222613e-01,\n",
              "          -1.71628729e-01,  2.04959810e-01,  4.11938608e-01,\n",
              "          -4.90437597e-02,  1.30478129e-01, -1.37946546e-01,\n",
              "           1.60813347e-01, -5.23243368e-01,  6.99045584e-02,\n",
              "          -5.22168756e-01, -4.89741862e-01,  5.57549417e-01,\n",
              "           8.98517370e-01,  2.85017967e-01,  1.35335064e+00,\n",
              "           8.88756290e-02, -6.80528402e-01, -1.33519515e-01,\n",
              "           4.53087598e-01,  3.30712020e-01, -1.67369157e-01,\n",
              "           4.30152476e-01, -1.09917969e-02, -1.58275411e-01,\n",
              "          -1.26133755e-01,  3.06665629e-01, -3.49521160e-01,\n",
              "          -2.38718510e-01, -5.85909486e-01, -1.77076697e-01,\n",
              "          -4.83747274e-01, -2.73707032e-01, -1.54486895e-02,\n",
              "          -2.59919226e-01,  1.92738801e-01, -5.39220154e-01,\n",
              "           6.55955553e-01,  1.10758906e-02,  4.11344737e-01,\n",
              "           2.15852320e-01, -6.22012556e-01, -7.01508760e-01,\n",
              "          -1.05229719e-02,  3.16400081e-01, -1.39854848e-01,\n",
              "           1.94906205e-01,  1.71231672e-01, -1.55260310e-01,\n",
              "           1.50120288e-01,  1.42814264e-01,  2.40066156e-01,\n",
              "           4.96749550e-01, -7.93620571e-02, -3.03822383e-02,\n",
              "           2.35646620e-01, -4.77471024e-01, -3.02052855e-01,\n",
              "          -3.64241242e-01,  2.07185805e-01, -1.36246729e+00,\n",
              "          -5.86744733e-02,  2.41303653e-01, -1.06669769e-01,\n",
              "           5.80513179e-01,  1.79641411e-01, -2.36753047e-01,\n",
              "          -1.40679240e+00,  3.29685807e-01, -2.11877823e-01,\n",
              "           3.12461983e-02,  1.93585351e-01,  1.82690173e-01,\n",
              "           2.39725737e-03, -1.07158765e-01,  1.11969762e-01,\n",
              "           3.21189940e-01, -4.71612960e-02, -4.19479012e-01,\n",
              "          -7.69390017e-02, -8.16306770e-02,  2.32980177e-01,\n",
              "          -6.21276855e-01, -8.43385682e-02,  3.27160895e-01,\n",
              "           3.64767700e-01,  2.74842381e-01,  1.74890995e-01,\n",
              "          -9.15729702e-02,  4.02203016e-02,  1.90547243e-01,\n",
              "           1.37504220e-01,  3.44332196e-02,  3.37900162e-01,\n",
              "           5.37368655e-01, -5.39096296e-01, -3.09501421e-02,\n",
              "          -4.55930680e-02, -1.55991957e-01, -3.74898672e-01,\n",
              "          -2.95967519e-01,  1.70132786e-01,  2.41573974e-02,\n",
              "          -2.72912443e-01,  4.39735532e-01,  8.57689083e-02,\n",
              "           5.05125701e-01, -2.26326093e-01, -9.76646319e-02,\n",
              "          -3.90175551e-01, -3.07519268e-02,  5.08336797e-02,\n",
              "           4.11338508e-02,  3.32258373e-01, -3.28660160e-01,\n",
              "          -1.86959535e-01, -2.35305473e-01,  4.04122591e-01,\n",
              "          -4.11344230e-01,  9.72991884e-02, -5.17843850e-03,\n",
              "          -2.01267123e-01, -3.47695023e-01, -4.95143265e-01,\n",
              "          -4.29842383e-01,  1.93352565e-01,  3.37830186e-02,\n",
              "          -3.20000976e-01,  3.95479083e-01,  1.14367925e-01,\n",
              "           1.79462612e-01, -6.53947443e-02,  2.74229318e-01,\n",
              "           3.87471616e-01,  1.17421731e-01,  1.74402088e-01,\n",
              "          -1.29161075e-01, -5.14339089e-01, -3.71001720e-01,\n",
              "          -4.70401859e-03, -7.70739689e-02, -8.10843587e-01,\n",
              "           2.92516440e-01, -3.92781883e-01, -3.35412584e-02,\n",
              "           3.35988700e-01, -3.87656331e-01, -2.39706442e-01,\n",
              "          -6.59019232e-01,  4.33543205e-01, -8.24764967e-02,\n",
              "           7.35605741e-03, -4.72049773e-01, -1.94077119e-01,\n",
              "           2.55340844e-01, -4.39391971e-01,  4.59228188e-01,\n",
              "           4.44207937e-02,  7.46466545e-03,  5.67824125e-01,\n",
              "           2.73197234e-01, -3.97657305e-01, -8.77586845e-03,\n",
              "           2.10734201e-03, -2.04475820e-01,  2.28902280e-01,\n",
              "           1.74327940e-01, -3.58079851e-01, -1.82884961e-01,\n",
              "          -6.02704287e-01,  1.87491804e-01, -9.35043037e-01,\n",
              "          -1.78152263e-01,  4.92025703e-01, -1.73635066e-01,\n",
              "          -4.76113677e-01, -3.88580501e-01,  4.13441807e-01,\n",
              "          -3.06911290e-01,  2.80622512e-01,  4.20416355e-01,\n",
              "          -1.59326449e-01, -3.86790663e-01, -1.40895292e-01,\n",
              "          -7.29439557e-02, -2.57783830e-01,  1.15617923e-02,\n",
              "           3.41404289e-01, -4.24864411e-01,  5.70261538e-01,\n",
              "           2.25397170e-01, -2.90496182e-02, -8.74260962e-02,\n",
              "          -4.62408483e-01,  3.60524803e-01,  6.68337643e-02,\n",
              "           1.57841951e-01,  2.37383898e-02,  3.94781446e-03,\n",
              "          -8.65875334e-02, -5.28098106e-01, -4.73110348e-01,\n",
              "           3.60475659e-01,  6.97042271e-02, -1.29655451e-01,\n",
              "           2.53322542e-01, -6.27358481e-02,  5.93942814e-02,\n",
              "           1.94208443e-01, -3.88613194e-01,  3.05030704e-01,\n",
              "           2.55916156e-02, -4.27670062e-01, -4.24525142e-02,\n",
              "           2.04356670e-01,  2.44110554e-01, -1.86683491e-01,\n",
              "           1.49887137e-03,  6.94672242e-02, -4.07907516e-01,\n",
              "           3.63306999e-02, -4.54663217e-01, -2.61633657e-02,\n",
              "          -5.83971858e-01,  1.24012575e-01, -2.67832637e-01,\n",
              "          -3.34883898e-01,  2.95328498e-02, -8.02085400e-02,\n",
              "           1.43018449e-02,  3.45576644e-01,  7.38133550e-01,\n",
              "           1.76932842e-01,  3.55354659e-02,  6.44911379e-02,\n",
              "          -3.28672796e-01, -3.06241959e-01,  3.29817832e-01,\n",
              "           3.12386546e-02,  3.36550415e-01,  4.26391214e-01,\n",
              "          -4.74350095e-01,  2.16014117e-01, -2.38747656e-01,\n",
              "           1.43725216e-01, -3.63615900e-01,  7.37355128e-02,\n",
              "          -5.22658706e-01, -8.69495988e-01,  4.95993286e-01,\n",
              "           5.16171642e-02,  4.57529426e-01, -9.87153351e-01,\n",
              "           7.51782894e-01,  2.93278489e-02, -6.77217394e-02,\n",
              "          -3.28849405e-01,  1.23916283e-01, -2.03091517e-01,\n",
              "          -5.18540889e-02, -5.09822249e-01, -3.58932763e-01,\n",
              "           3.64223748e-01, -5.34993745e-02, -2.79934276e-02,\n",
              "          -5.24107635e-01,  3.34302485e-01, -4.70633388e-01,\n",
              "           9.84018147e-02,  2.39099398e-01,  4.56437945e-01,\n",
              "          -3.17879140e-01, -2.91833818e-01, -8.83054361e-02,\n",
              "          -1.31370097e-01,  1.12128578e-01,  1.40369102e-01,\n",
              "           6.81751147e-02,  2.05940127e-01,  1.75867870e-01,\n",
              "          -1.74963892e-01, -3.21871877e-01, -2.00252414e-01,\n",
              "          -4.79806066e-02, -1.00854225e-01,  6.45509437e-02,\n",
              "          -2.44507613e-03, -1.83162436e-01,  2.68777907e-01,\n",
              "          -1.07609726e-01, -2.39946395e-01,  3.48425984e-01,\n",
              "           1.84979618e-01, -1.55761734e-01, -3.98441255e-01,\n",
              "          -3.23617190e-01, -1.71007842e-01, -7.53816962e-01,\n",
              "          -2.40372106e-01, -3.70252550e-01, -2.93891221e-01,\n",
              "          -3.36480677e-01,  2.95739442e-01,  8.48299563e-02,\n",
              "           7.03882635e-01,  2.27756575e-01,  8.33179235e-01,\n",
              "          -2.73861080e-01, -1.89958066e-01, -2.49991760e-01,\n",
              "          -1.59836665e-01,  3.16832960e-01,  1.27560561e-04,\n",
              "           2.28557900e-01,  7.38151697e-03, -6.84955835e-01,\n",
              "          -2.56663263e-02,  2.84396619e-01,  3.73782963e-01,\n",
              "          -4.41342473e-01,  3.08655053e-01,  6.09327435e-01,\n",
              "           2.47576714e-01, -3.46335769e-01, -6.94817960e-01,\n",
              "           7.05622435e-01,  3.65606576e-01,  9.84519720e-03,\n",
              "          -6.28656968e-02, -2.56540805e-01, -2.31399357e-01,\n",
              "           3.07944000e-01, -2.56002158e-01,  2.97105849e-01,\n",
              "           3.99479061e-01,  5.14166772e-01,  1.11850247e-01,\n",
              "          -1.89805880e-01,  3.48201811e-01,  2.29547396e-01,\n",
              "          -1.48333609e-01,  4.37640816e-01, -3.87513936e-02,\n",
              "           3.65503669e-01, -1.71043479e-03, -1.48035884e-02,\n",
              "           1.10855579e-01, -3.00296485e-01, -3.12531412e-01,\n",
              "          -2.18306124e-01, -9.85371992e-02,  1.26637584e-02,\n",
              "          -2.38905966e-01, -7.53166527e-02,  4.92460996e-01,\n",
              "           2.52050757e-02, -2.55877137e-01, -2.18132913e-01,\n",
              "          -2.43169785e-01,  1.77698717e-01,  3.18195415e-03,\n",
              "          -8.09889257e-01,  1.27620064e-02,  5.50566494e-01,\n",
              "           9.50770825e-02,  3.67892146e-01, -4.78027552e-01,\n",
              "           3.13368499e-01, -2.28124693e-01,  7.89389372e-01,\n",
              "           1.06437713e-01,  4.57392484e-01, -2.12981537e-01,\n",
              "          -2.11501017e-01,  1.79866403e-01, -1.78693640e+00,\n",
              "           4.13006283e-02,  3.37616920e-01,  1.79158613e-01,\n",
              "           1.30474895e-01,  3.16365033e-01,  5.12464166e-01,\n",
              "          -4.36385214e-01, -5.65937422e-02,  1.08181030e-01,\n",
              "          -5.89355975e-02, -4.73009720e-02, -1.29731253e-01,\n",
              "           4.23004359e-01, -3.98637176e-01, -1.27587333e-01,\n",
              "           1.67069063e-01, -9.34394896e-02,  4.39080186e-02,\n",
              "           1.97209299e-01, -5.80775499e-01, -3.59048218e-01,\n",
              "           7.92785361e-03,  1.80157781e-01,  5.27369201e-01,\n",
              "          -1.79810047e-01,  5.47143698e-01,  7.84900784e-03,\n",
              "           3.85372251e-01, -4.35314447e-01, -6.56470597e-01,\n",
              "           1.46427318e-01, -1.21527776e-01,  1.19330697e-01,\n",
              "          -3.79637092e-01,  7.60424435e-02, -1.31829202e-01]], dtype=float32),\n",
              "  'q7': array([[-0.19008547, -0.70181173,  0.5630423 , ...,  0.36170536,\n",
              "          -0.22189246, -0.6819766 ],\n",
              "         [ 0.00359644, -0.39082873,  0.6606435 , ..., -0.16949135,\n",
              "          -0.2192816 ,  0.03284964],\n",
              "         [ 0.09246413, -0.6922247 ,  1.3363352 , ...,  0.5376188 ,\n",
              "           0.16429617,  0.39284763],\n",
              "         ...,\n",
              "         [ 0.39461663, -0.26047367,  0.83281153, ...,  0.13524093,\n",
              "           0.36394405, -0.31263736],\n",
              "         [ 0.00701952, -0.04133053,  0.90934175, ..., -0.14313598,\n",
              "           0.12893255, -0.6003114 ],\n",
              "         [-0.25439927, -0.34243038,  1.2174213 , ...,  0.54747385,\n",
              "           0.19426467, -0.52925354]], dtype=float32)}}"
            ]
          },
          "metadata": {
            "tags": []
          },
          "execution_count": 57
        }
      ]
    },
    {
      "cell_type": "code",
      "metadata": {
        "id": "9TPpXVY8mbFQ",
        "colab_type": "code",
        "colab": {
          "base_uri": "https://localhost:8080/",
          "height": 35
        },
        "outputId": "28633356-0d10-44ad-eaaa-feedb06475ec"
      },
      "source": [
        "PAGE = 100\n",
        "for categ in questions:\n",
        "  if categ != 'кладовщик':\n",
        "    continue\n",
        "  for i in range(0, 1000):\n",
        "    print(categ, i)\n",
        "    for question in questions[categ]:\n",
        "      df_part = df[df_model[0] == categ].iloc[i*PAGE:i*PAGE+PAGE]\n",
        "      result = model(list(df_part.description), [question['question']] * PAGE)\n",
        "\n",
        "      storage_types = [s.lower() for s in question['examples']]\n",
        "      sent_mean_embs = example_embeddings[categ][question['id']]\n",
        "\n",
        "      tol = question['tolerance'] if ('tolerance' in question) else 0.3\n",
        "\n",
        "      ans = []\n",
        "      for j, r in enumerate(result[0]):\n",
        "        _, _, _, _, _, emb, _ = m([r])\n",
        "        mind = 1\n",
        "        for ee, e in enumerate(sent_mean_embs):\n",
        "          d = scipy.spatial.distance.cosine(emb, e)\n",
        "          if d < mind:\n",
        "            mind = d\n",
        "        if mind < 0.6:\n",
        "          for ee, e in enumerate(sent_mean_embs):\n",
        "            d = scipy.spatial.distance.cosine(emb, e)    \n",
        "            #print(r, storage_types[ee], d)\n",
        "            if d == mind:\n",
        "              #print('found match for %s with %s' % (r, storage_types[ee]), question['question'])\n",
        "              #print(j, df_part.index[j], df_part.iloc[j].description, target[df_part.index[j]])\n",
        "              target[df_part.index[j]][question['id']] = r.replace('\\r','').replace('\\n','; ').replace('.;', ';').replace('•','').strip()\n",
        "              target_confidence[df_part.index[j]][question['id']] = d\n",
        "              found[categ][question['id']] += 1\n",
        "    pd.DataFrame(target).to_csv('/content/gdrive/My Drive/Hakaton2/target.csv')\n",
        "    pd.DataFrame(target_confidence).to_csv('/content/gdrive/My Drive/Hakaton2/target_confidence.csv')\n",
        "    #break"
      ],
      "execution_count": null,
      "outputs": [
        {
          "output_type": "stream",
          "text": [
            "кладовщик 0\n"
          ],
          "name": "stdout"
        }
      ]
    },
    {
      "cell_type": "code",
      "metadata": {
        "id": "JSmuLcT-hDiz",
        "colab_type": "code",
        "colab": {
          "base_uri": "https://localhost:8080/",
          "height": 201
        },
        "outputId": "34b54412-52c6-4874-d4a0-a88179224470"
      },
      "source": [
        "target[0:10]"
      ],
      "execution_count": 70,
      "outputs": [
        {
          "output_type": "execute_result",
          "data": {
            "text/plain": [
              "[{'q6': '', 'q8': '', 'q9': 'Проведение инвентаризаций'},\n",
              " {'q6': '', 'q8': '', 'q9': ''},\n",
              " {'q6': '', 'q8': '', 'q9': 'Полное ведение складского учета'},\n",
              " {'q3': '', 'q7': ''},\n",
              " {'q3': '', 'q7': 'Проведение тренингов/собраний'},\n",
              " {'q3': '', 'q7': 'Встреча и обслуживание гостей'},\n",
              " {'q3': '', 'q7': ''},\n",
              " {'q6': '', 'q8': '', 'q9': ''},\n",
              " {'q10': '', 'q11': '', 'q12': '', 'q14': '', 'q16': ''},\n",
              " {'q14': 'дорожные работы работы с водоканалом', 'q3': '', 'q7': ''}]"
            ]
          },
          "metadata": {
            "tags": []
          },
          "execution_count": 70
        }
      ]
    },
    {
      "cell_type": "code",
      "metadata": {
        "id": "UqDh7duLhDnN",
        "colab_type": "code",
        "colab": {}
      },
      "source": [
        "pd.DataFrame(target).to_csv('/content/gdrive/My Drive/Hakaton2/target.csv')\n",
        "pd.DataFrame(target_confidence).to_csv('/content/gdrive/My Drive/Hakaton2/target_confidence.csv')"
      ],
      "execution_count": 75,
      "outputs": []
    },
    {
      "cell_type": "code",
      "metadata": {
        "id": "0Z64FZPAhDrU",
        "colab_type": "code",
        "colab": {
          "base_uri": "https://localhost:8080/",
          "height": 35
        },
        "outputId": "fc77da17-f7ae-4fd3-8b98-896fd899dc9e"
      },
      "source": [
        "storage_types"
      ],
      "execution_count": 61,
      "outputs": [
        {
          "output_type": "execute_result",
          "data": {
            "text/plain": [
              "['внимательность', 'активность', 'ответственность', 'аккуратность']"
            ]
          },
          "metadata": {
            "tags": []
          },
          "execution_count": 61
        }
      ]
    },
    {
      "cell_type": "code",
      "metadata": {
        "id": "6kchVnYuhDvO",
        "colab_type": "code",
        "colab": {}
      },
      "source": [
        ""
      ],
      "execution_count": null,
      "outputs": []
    },
    {
      "cell_type": "code",
      "metadata": {
        "id": "6cSv68S3hDzs",
        "colab_type": "code",
        "colab": {}
      },
      "source": [
        ""
      ],
      "execution_count": null,
      "outputs": []
    },
    {
      "cell_type": "code",
      "metadata": {
        "id": "U8gOMqA5hD3f",
        "colab_type": "code",
        "colab": {
          "base_uri": "https://localhost:8080/",
          "height": 36
        },
        "outputId": "f95c0521-1854-41d6-9543-5efe0ed35369"
      },
      "source": [
        "categ"
      ],
      "execution_count": 38,
      "outputs": [
        {
          "output_type": "execute_result",
          "data": {
            "application/vnd.google.colaboratory.intrinsic+json": {
              "type": "string"
            },
            "text/plain": [
              "'официант'"
            ]
          },
          "metadata": {
            "tags": []
          },
          "execution_count": 38
        }
      ]
    },
    {
      "cell_type": "code",
      "metadata": {
        "id": "fBfvRuLjhD76",
        "colab_type": "code",
        "colab": {
          "base_uri": "https://localhost:8080/",
          "height": 747
        },
        "outputId": "25e950c7-f8b2-4a24-9a98-5a283e400673"
      },
      "source": [
        "df[df_model.iloc[i][0] == categ]"
      ],
      "execution_count": 37,
      "outputs": [
        {
          "output_type": "error",
          "ename": "KeyError",
          "evalue": "ignored",
          "traceback": [
            "\u001b[0;31m---------------------------------------------------------------------------\u001b[0m",
            "\u001b[0;31mKeyError\u001b[0m                                  Traceback (most recent call last)",
            "\u001b[0;32m/usr/local/lib/python3.6/dist-packages/pandas/core/indexes/base.py\u001b[0m in \u001b[0;36mget_loc\u001b[0;34m(self, key, method, tolerance)\u001b[0m\n\u001b[1;32m   2896\u001b[0m             \u001b[0;32mtry\u001b[0m\u001b[0;34m:\u001b[0m\u001b[0;34m\u001b[0m\u001b[0;34m\u001b[0m\u001b[0m\n\u001b[0;32m-> 2897\u001b[0;31m                 \u001b[0;32mreturn\u001b[0m \u001b[0mself\u001b[0m\u001b[0;34m.\u001b[0m\u001b[0m_engine\u001b[0m\u001b[0;34m.\u001b[0m\u001b[0mget_loc\u001b[0m\u001b[0;34m(\u001b[0m\u001b[0mkey\u001b[0m\u001b[0;34m)\u001b[0m\u001b[0;34m\u001b[0m\u001b[0;34m\u001b[0m\u001b[0m\n\u001b[0m\u001b[1;32m   2898\u001b[0m             \u001b[0;32mexcept\u001b[0m \u001b[0mKeyError\u001b[0m\u001b[0;34m:\u001b[0m\u001b[0;34m\u001b[0m\u001b[0;34m\u001b[0m\u001b[0m\n",
            "\u001b[0;32mpandas/_libs/index.pyx\u001b[0m in \u001b[0;36mpandas._libs.index.IndexEngine.get_loc\u001b[0;34m()\u001b[0m\n",
            "\u001b[0;32mpandas/_libs/index.pyx\u001b[0m in \u001b[0;36mpandas._libs.index.IndexEngine.get_loc\u001b[0;34m()\u001b[0m\n",
            "\u001b[0;32mpandas/_libs/hashtable_class_helper.pxi\u001b[0m in \u001b[0;36mpandas._libs.hashtable.PyObjectHashTable.get_item\u001b[0;34m()\u001b[0m\n",
            "\u001b[0;32mpandas/_libs/hashtable_class_helper.pxi\u001b[0m in \u001b[0;36mpandas._libs.hashtable.PyObjectHashTable.get_item\u001b[0;34m()\u001b[0m\n",
            "\u001b[0;31mKeyError\u001b[0m: False",
            "\nDuring handling of the above exception, another exception occurred:\n",
            "\u001b[0;31mKeyError\u001b[0m                                  Traceback (most recent call last)",
            "\u001b[0;32m<ipython-input-37-7ddf7ce8985e>\u001b[0m in \u001b[0;36m<module>\u001b[0;34m()\u001b[0m\n\u001b[0;32m----> 1\u001b[0;31m \u001b[0mdf\u001b[0m\u001b[0;34m[\u001b[0m\u001b[0mdf_model\u001b[0m\u001b[0;34m.\u001b[0m\u001b[0miloc\u001b[0m\u001b[0;34m[\u001b[0m\u001b[0mi\u001b[0m\u001b[0;34m]\u001b[0m\u001b[0;34m[\u001b[0m\u001b[0;36m0\u001b[0m\u001b[0;34m]\u001b[0m \u001b[0;34m==\u001b[0m \u001b[0mcateg\u001b[0m\u001b[0;34m]\u001b[0m\u001b[0;34m\u001b[0m\u001b[0;34m\u001b[0m\u001b[0m\n\u001b[0m",
            "\u001b[0;32m/usr/local/lib/python3.6/dist-packages/pandas/core/frame.py\u001b[0m in \u001b[0;36m__getitem__\u001b[0;34m(self, key)\u001b[0m\n\u001b[1;32m   2993\u001b[0m             \u001b[0;32mif\u001b[0m \u001b[0mself\u001b[0m\u001b[0;34m.\u001b[0m\u001b[0mcolumns\u001b[0m\u001b[0;34m.\u001b[0m\u001b[0mnlevels\u001b[0m \u001b[0;34m>\u001b[0m \u001b[0;36m1\u001b[0m\u001b[0;34m:\u001b[0m\u001b[0;34m\u001b[0m\u001b[0;34m\u001b[0m\u001b[0m\n\u001b[1;32m   2994\u001b[0m                 \u001b[0;32mreturn\u001b[0m \u001b[0mself\u001b[0m\u001b[0;34m.\u001b[0m\u001b[0m_getitem_multilevel\u001b[0m\u001b[0;34m(\u001b[0m\u001b[0mkey\u001b[0m\u001b[0;34m)\u001b[0m\u001b[0;34m\u001b[0m\u001b[0;34m\u001b[0m\u001b[0m\n\u001b[0;32m-> 2995\u001b[0;31m             \u001b[0mindexer\u001b[0m \u001b[0;34m=\u001b[0m \u001b[0mself\u001b[0m\u001b[0;34m.\u001b[0m\u001b[0mcolumns\u001b[0m\u001b[0;34m.\u001b[0m\u001b[0mget_loc\u001b[0m\u001b[0;34m(\u001b[0m\u001b[0mkey\u001b[0m\u001b[0;34m)\u001b[0m\u001b[0;34m\u001b[0m\u001b[0;34m\u001b[0m\u001b[0m\n\u001b[0m\u001b[1;32m   2996\u001b[0m             \u001b[0;32mif\u001b[0m \u001b[0mis_integer\u001b[0m\u001b[0;34m(\u001b[0m\u001b[0mindexer\u001b[0m\u001b[0;34m)\u001b[0m\u001b[0;34m:\u001b[0m\u001b[0;34m\u001b[0m\u001b[0;34m\u001b[0m\u001b[0m\n\u001b[1;32m   2997\u001b[0m                 \u001b[0mindexer\u001b[0m \u001b[0;34m=\u001b[0m \u001b[0;34m[\u001b[0m\u001b[0mindexer\u001b[0m\u001b[0;34m]\u001b[0m\u001b[0;34m\u001b[0m\u001b[0;34m\u001b[0m\u001b[0m\n",
            "\u001b[0;32m/usr/local/lib/python3.6/dist-packages/pandas/core/indexes/base.py\u001b[0m in \u001b[0;36mget_loc\u001b[0;34m(self, key, method, tolerance)\u001b[0m\n\u001b[1;32m   2897\u001b[0m                 \u001b[0;32mreturn\u001b[0m \u001b[0mself\u001b[0m\u001b[0;34m.\u001b[0m\u001b[0m_engine\u001b[0m\u001b[0;34m.\u001b[0m\u001b[0mget_loc\u001b[0m\u001b[0;34m(\u001b[0m\u001b[0mkey\u001b[0m\u001b[0;34m)\u001b[0m\u001b[0;34m\u001b[0m\u001b[0;34m\u001b[0m\u001b[0m\n\u001b[1;32m   2898\u001b[0m             \u001b[0;32mexcept\u001b[0m \u001b[0mKeyError\u001b[0m\u001b[0;34m:\u001b[0m\u001b[0;34m\u001b[0m\u001b[0;34m\u001b[0m\u001b[0m\n\u001b[0;32m-> 2899\u001b[0;31m                 \u001b[0;32mreturn\u001b[0m \u001b[0mself\u001b[0m\u001b[0;34m.\u001b[0m\u001b[0m_engine\u001b[0m\u001b[0;34m.\u001b[0m\u001b[0mget_loc\u001b[0m\u001b[0;34m(\u001b[0m\u001b[0mself\u001b[0m\u001b[0;34m.\u001b[0m\u001b[0m_maybe_cast_indexer\u001b[0m\u001b[0;34m(\u001b[0m\u001b[0mkey\u001b[0m\u001b[0;34m)\u001b[0m\u001b[0;34m)\u001b[0m\u001b[0;34m\u001b[0m\u001b[0;34m\u001b[0m\u001b[0m\n\u001b[0m\u001b[1;32m   2900\u001b[0m         \u001b[0mindexer\u001b[0m \u001b[0;34m=\u001b[0m \u001b[0mself\u001b[0m\u001b[0;34m.\u001b[0m\u001b[0mget_indexer\u001b[0m\u001b[0;34m(\u001b[0m\u001b[0;34m[\u001b[0m\u001b[0mkey\u001b[0m\u001b[0;34m]\u001b[0m\u001b[0;34m,\u001b[0m \u001b[0mmethod\u001b[0m\u001b[0;34m=\u001b[0m\u001b[0mmethod\u001b[0m\u001b[0;34m,\u001b[0m \u001b[0mtolerance\u001b[0m\u001b[0;34m=\u001b[0m\u001b[0mtolerance\u001b[0m\u001b[0;34m)\u001b[0m\u001b[0;34m\u001b[0m\u001b[0;34m\u001b[0m\u001b[0m\n\u001b[1;32m   2901\u001b[0m         \u001b[0;32mif\u001b[0m \u001b[0mindexer\u001b[0m\u001b[0;34m.\u001b[0m\u001b[0mndim\u001b[0m \u001b[0;34m>\u001b[0m \u001b[0;36m1\u001b[0m \u001b[0;32mor\u001b[0m \u001b[0mindexer\u001b[0m\u001b[0;34m.\u001b[0m\u001b[0msize\u001b[0m \u001b[0;34m>\u001b[0m \u001b[0;36m1\u001b[0m\u001b[0;34m:\u001b[0m\u001b[0;34m\u001b[0m\u001b[0;34m\u001b[0m\u001b[0m\n",
            "\u001b[0;32mpandas/_libs/index.pyx\u001b[0m in \u001b[0;36mpandas._libs.index.IndexEngine.get_loc\u001b[0;34m()\u001b[0m\n",
            "\u001b[0;32mpandas/_libs/index.pyx\u001b[0m in \u001b[0;36mpandas._libs.index.IndexEngine.get_loc\u001b[0;34m()\u001b[0m\n",
            "\u001b[0;32mpandas/_libs/hashtable_class_helper.pxi\u001b[0m in \u001b[0;36mpandas._libs.hashtable.PyObjectHashTable.get_item\u001b[0;34m()\u001b[0m\n",
            "\u001b[0;32mpandas/_libs/hashtable_class_helper.pxi\u001b[0m in \u001b[0;36mpandas._libs.hashtable.PyObjectHashTable.get_item\u001b[0;34m()\u001b[0m\n",
            "\u001b[0;31mKeyError\u001b[0m: False"
          ]
        }
      ]
    },
    {
      "cell_type": "code",
      "metadata": {
        "id": "FsZXVfGOhD_j",
        "colab_type": "code",
        "colab": {
          "base_uri": "https://localhost:8080/",
          "height": 36
        },
        "outputId": "c1804ce4-3d5c-4377-80ae-729905d41035"
      },
      "source": [
        "df_model.iloc[i][0]"
      ],
      "execution_count": 25,
      "outputs": [
        {
          "output_type": "execute_result",
          "data": {
            "application/vnd.google.colaboratory.intrinsic+json": {
              "type": "string"
            },
            "text/plain": [
              "'кладовщик'"
            ]
          },
          "metadata": {
            "tags": []
          },
          "execution_count": 25
        }
      ]
    },
    {
      "cell_type": "code",
      "metadata": {
        "id": "5qtzMbj8nSG7",
        "colab_type": "code",
        "colab": {}
      },
      "source": [
        ""
      ],
      "execution_count": null,
      "outputs": []
    }
  ]
}